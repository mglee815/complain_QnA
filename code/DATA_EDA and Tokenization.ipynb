{
 "cells": [
  {
   "cell_type": "code",
   "execution_count": 1,
   "metadata": {},
   "outputs": [],
   "source": [
    "import pandas as pd"
   ]
  },
  {
   "cell_type": "code",
   "execution_count": 2,
   "metadata": {},
   "outputs": [],
   "source": [
    "data = pd.read_pickle(\"../data/sample5_df.pkl\")"
   ]
  },
  {
   "cell_type": "code",
   "execution_count": 3,
   "metadata": {},
   "outputs": [
    {
     "name": "stdout",
     "output_type": "stream",
     "text": [
      "<class 'pandas.core.frame.DataFrame'>\n",
      "Int64Index: 1705279 entries, 0 to 426253\n",
      "Data columns (total 11 columns):\n",
      " #   Column  Dtype  \n",
      "---  ------  -----  \n",
      " 0   제목      object \n",
      " 1   본문      object \n",
      " 2   민원발생지   object \n",
      " 3   민원신청경로  object \n",
      " 4   접수기관    object \n",
      " 5   처리부서    object \n",
      " 6   성별      object \n",
      " 7   나이      float64\n",
      " 8   접수일     object \n",
      " 9   year    float64\n",
      " 10  type    object \n",
      "dtypes: float64(2), object(9)\n",
      "memory usage: 156.1+ MB\n"
     ]
    }
   ],
   "source": [
    "data.info()"
   ]
  },
  {
   "cell_type": "code",
   "execution_count": 42,
   "metadata": {},
   "outputs": [],
   "source": [
    "depart_count = data.groupby('처리부서').count()['제목']\n",
    "depart_count = pd.DataFrame(depart_count).reset_index()\n",
    "depart_count.columns = ['처리부서', 'freq']\n",
    "depart_count = depart_count.sort_values('freq', ascending=False)"
   ]
  },
  {
   "cell_type": "code",
   "execution_count": 52,
   "metadata": {},
   "outputs": [],
   "source": [
    "depart_use = list(depart_count[depart_count.freq > 50]['처리부서'])"
   ]
  },
  {
   "cell_type": "code",
   "execution_count": 53,
   "metadata": {},
   "outputs": [
    {
     "data": {
      "text/plain": [
       "3298"
      ]
     },
     "execution_count": 53,
     "metadata": {},
     "output_type": "execute_result"
    }
   ],
   "source": [
    "len(depart_use)"
   ]
  },
  {
   "cell_type": "code",
   "execution_count": 55,
   "metadata": {},
   "outputs": [],
   "source": [
    "idx_lst = []\n",
    "for idx, department in enumerate(data['처리부서']):\n",
    "    if department in depart_use:\n",
    "        idx_lst.append(idx)"
   ]
  },
  {
   "cell_type": "code",
   "execution_count": 62,
   "metadata": {},
   "outputs": [
    {
     "name": "stdout",
     "output_type": "stream",
     "text": [
      "Before reduce : 1705279     After reduce : 1523920\n"
     ]
    }
   ],
   "source": [
    "print(f\"Before reduce : {len(data)} \\\n",
    "    After reduce : {len(idx_lst)}\")"
   ]
  },
  {
   "cell_type": "markdown",
   "metadata": {},
   "source": [
    "### 처리부서보다 접수 기관을 target으로 사용하는게 더 좋아보여서 방향 재설정"
   ]
  },
  {
   "cell_type": "code",
   "execution_count": 115,
   "metadata": {},
   "outputs": [],
   "source": [
    "data = data[['제목', '본문', '민원발생지', '접수기관']]"
   ]
  },
  {
   "cell_type": "code",
   "execution_count": 120,
   "metadata": {},
   "outputs": [],
   "source": [
    "data_use = data.iloc[idx_lst,:]"
   ]
  },
  {
   "cell_type": "code",
   "execution_count": 122,
   "metadata": {},
   "outputs": [
    {
     "data": {
      "text/html": [
       "<div>\n",
       "<style scoped>\n",
       "    .dataframe tbody tr th:only-of-type {\n",
       "        vertical-align: middle;\n",
       "    }\n",
       "\n",
       "    .dataframe tbody tr th {\n",
       "        vertical-align: top;\n",
       "    }\n",
       "\n",
       "    .dataframe thead th {\n",
       "        text-align: right;\n",
       "    }\n",
       "</style>\n",
       "<table border=\"1\" class=\"dataframe\">\n",
       "  <thead>\n",
       "    <tr style=\"text-align: right;\">\n",
       "      <th></th>\n",
       "      <th>제목</th>\n",
       "      <th>본문</th>\n",
       "      <th>민원발생지</th>\n",
       "      <th>접수기관</th>\n",
       "    </tr>\n",
       "  </thead>\n",
       "  <tbody>\n",
       "    <tr>\n",
       "      <th>0</th>\n",
       "      <td>농산물(한방재) 부재료의 중량표시 방법</td>\n",
       "      <td>안녕하십니까! 수고많으십니다.\\r\\n\\r\\n농산물(부재료)에 대한 중량표시 및 오차...</td>\n",
       "      <td>전라북도</td>\n",
       "      <td>식품의약품안전처</td>\n",
       "    </tr>\n",
       "  </tbody>\n",
       "</table>\n",
       "</div>"
      ],
      "text/plain": [
       "                      제목                                                 본문  \\\n",
       "0  농산물(한방재) 부재료의 중량표시 방법  안녕하십니까! 수고많으십니다.\\r\\n\\r\\n농산물(부재료)에 대한 중량표시 및 오차...   \n",
       "\n",
       "  민원발생지      접수기관  \n",
       "0  전라북도  식품의약품안전처  "
      ]
     },
     "execution_count": 122,
     "metadata": {},
     "output_type": "execute_result"
    }
   ],
   "source": [
    "data_use.head(1)"
   ]
  },
  {
   "cell_type": "code",
   "execution_count": 123,
   "metadata": {},
   "outputs": [
    {
     "data": {
      "text/plain": [
       "count       332.000000\n",
       "mean       4590.117470\n",
       "std       20570.565727\n",
       "min          51.000000\n",
       "25%         211.500000\n",
       "50%        1172.000000\n",
       "75%        3251.000000\n",
       "max      331532.000000\n",
       "Name: 제목, dtype: float64"
      ]
     },
     "execution_count": 123,
     "metadata": {},
     "output_type": "execute_result"
    }
   ],
   "source": [
    "data_use.groupby('접수기관').count()['제목'].describe()"
   ]
  },
  {
   "cell_type": "code",
   "execution_count": 124,
   "metadata": {},
   "outputs": [
    {
     "data": {
      "text/plain": [
       "접수기관\n",
       "서울특별시       331533\n",
       "한국토지주택공사    104355\n",
       "경찰청         101214\n",
       "국토교통부        83390\n",
       "경기도 고양시      34245\n",
       "             ...  \n",
       "근로복지공단          53\n",
       "서민금융진흥원         53\n",
       "경기도 연천군         52\n",
       "전라남도교육청         51\n",
       "인천시설공단          51\n",
       "Length: 332, dtype: int64"
      ]
     },
     "execution_count": 124,
     "metadata": {},
     "output_type": "execute_result"
    }
   ],
   "source": [
    "data_use.value_counts('접수기관')"
   ]
  },
  {
   "cell_type": "code",
   "execution_count": 202,
   "metadata": {},
   "outputs": [
    {
     "data": {
      "text/html": [
       "<div>\n",
       "<style scoped>\n",
       "    .dataframe tbody tr th:only-of-type {\n",
       "        vertical-align: middle;\n",
       "    }\n",
       "\n",
       "    .dataframe tbody tr th {\n",
       "        vertical-align: top;\n",
       "    }\n",
       "\n",
       "    .dataframe thead th {\n",
       "        text-align: right;\n",
       "    }\n",
       "</style>\n",
       "<table border=\"1\" class=\"dataframe\">\n",
       "  <thead>\n",
       "    <tr style=\"text-align: right;\">\n",
       "      <th></th>\n",
       "      <th>제목</th>\n",
       "      <th>본문</th>\n",
       "      <th>민원발생지</th>\n",
       "      <th>접수기관</th>\n",
       "      <th>token</th>\n",
       "    </tr>\n",
       "  </thead>\n",
       "  <tbody>\n",
       "    <tr>\n",
       "      <th>0</th>\n",
       "      <td>농산물(한방재) 부재료의 중량표시 방법</td>\n",
       "      <td>안녕하십니까! 수고많으십니다.\\r\\n\\r\\n농산물(부재료)에 대한 중량표시 및 오차...</td>\n",
       "      <td>전라북도</td>\n",
       "      <td>식품의약품안전처</td>\n",
       "      <td>안녕하십니까! 수고많으십니다.\\r\\n\\r\\n농산물(부재료)에 대한 중량표시 및 오차...</td>\n",
       "    </tr>\n",
       "    <tr>\n",
       "      <th>1</th>\n",
       "      <td>전문건설업간 하도급계약에 관련</td>\n",
       "      <td>안녕하세요 저는 서울에서 일반토목공사를 하는 현장소장입니다.\\r\\n다름이 아니라 \\...</td>\n",
       "      <td>경기도</td>\n",
       "      <td>국토교통부</td>\n",
       "      <td>안녕하세요 저는 서울에서 일반토목공사를 하는 현장소장입니다.\\r\\n다름이 아니라 \\...</td>\n",
       "    </tr>\n",
       "    <tr>\n",
       "      <th>2</th>\n",
       "      <td>녹색건축 예비인증 후 설계변경시 예비인증을 다시 받아야 하는 경우에 관한 질의</td>\n",
       "      <td>1. 녹색건축 예비인증을 받은 이후에 각각 아래 1)에서 4)와 같은 설계변경 또는...</td>\n",
       "      <td>경기도</td>\n",
       "      <td>국토교통부</td>\n",
       "      <td>1. 녹색건축 예비인증을 받은 이후에 각각 아래 1)에서 4)와 같은 설계변경 또는...</td>\n",
       "    </tr>\n",
       "    <tr>\n",
       "      <th>4</th>\n",
       "      <td>(SPP-1803-1600277)임대아파트의 에어컨 실외기 문제로 호소합니다. 저는 임</td>\n",
       "      <td>[민원 유입 경로]: 모바일\\n[사고발생지역]대구광역시 동구 각산동 1062\\n[기...</td>\n",
       "      <td>대구광역시</td>\n",
       "      <td>한국토지주택공사</td>\n",
       "      <td>[민원 유입 경로]: 모바일\\n[사고발생지역]대구광역시 동구 각산동 1062\\n[기...</td>\n",
       "    </tr>\n",
       "    <tr>\n",
       "      <th>6</th>\n",
       "      <td>[생활불편신고]불법 주차</td>\n",
       "      <td>&amp;lt;불법주정차&amp;gt; 18-03-15 오전부터 24시간 이상 도로변에 불법주차되...</td>\n",
       "      <td>경상남도</td>\n",
       "      <td>경상남도 양산시</td>\n",
       "      <td>&amp;lt;불법주정차&amp;gt; 18-03-15 오전부터 24시간 이상 도로변에 불법주차되...</td>\n",
       "    </tr>\n",
       "    <tr>\n",
       "      <th>7</th>\n",
       "      <td>[생활불편신고]장애인 전용주차구역 불법주차</td>\n",
       "      <td>&amp;lt;장애인 전용주차구역 불법주차&amp;gt; 장애인표시 주차불가이네요[ 상세위치설명 ...</td>\n",
       "      <td>경상남도</td>\n",
       "      <td>경상남도 창원시</td>\n",
       "      <td>&amp;lt;장애인 전용주차구역 불법주차&amp;gt; 장애인표시 주차불가이네요[ 상세위치설명 ...</td>\n",
       "    </tr>\n",
       "    <tr>\n",
       "      <th>9</th>\n",
       "      <td>특수업무수당 병급 사항</td>\n",
       "      <td>안녕하세요\\r\\n\\r\\n특수업무수당 병급관련하여 몇가지 여쭤보고 싶어 질의를 합니다...</td>\n",
       "      <td>경상남도</td>\n",
       "      <td>인사혁신처</td>\n",
       "      <td>안녕하세요\\r\\n\\r\\n특수업무수당 병급관련하여 몇가지 여쭤보고 싶어 질의를 합니다...</td>\n",
       "    </tr>\n",
       "    <tr>\n",
       "      <th>10</th>\n",
       "      <td>[생활불편신고]기타생활불편</td>\n",
       "      <td>&amp;lt;기타생활불편 상점 매대 불법 인도 점유&amp;gt; 상점의 매대가 인도를 대부분 ...</td>\n",
       "      <td>경기도</td>\n",
       "      <td>경기도 성남시</td>\n",
       "      <td>&amp;lt;기타생활불편 상점 매대 불법 인도 점유&amp;gt; 상점의 매대가 인도를 대부분 ...</td>\n",
       "    </tr>\n",
       "    <tr>\n",
       "      <th>11</th>\n",
       "      <td>(SPP-1803-1600322)신암로 76   앞 도로에  도로가 깊이 파임. 정비요</td>\n",
       "      <td>[민원 유입 경로]: 모바일\\n[사고발생지역]부산광역시 부산진구 범천동 1255-8...</td>\n",
       "      <td>부산광역시</td>\n",
       "      <td>부산광역시 부산진구</td>\n",
       "      <td>[민원 유입 경로]: 모바일\\n[사고발생지역]부산광역시 부산진구 범천동 1255-8...</td>\n",
       "    </tr>\n",
       "    <tr>\n",
       "      <th>12</th>\n",
       "      <td>(재건축) 다채 보유 1인 조합원(토지등소유자 1인)이 1채를 매매매시 조합원 수 ...</td>\n",
       "      <td>연일 노고에 수고많으십니다.\\r\\n\\r\\n조합원 A는 1-1번지(토지+건물), 2-...</td>\n",
       "      <td>경기도</td>\n",
       "      <td>국토교통부</td>\n",
       "      <td>연일 노고에 수고많으십니다.\\r\\n\\r\\n조합원 A는 1-1번지(토지+건물), 2-...</td>\n",
       "    </tr>\n",
       "  </tbody>\n",
       "</table>\n",
       "</div>"
      ],
      "text/plain": [
       "                                                   제목  \\\n",
       "0                               농산물(한방재) 부재료의 중량표시 방법   \n",
       "1                                    전문건설업간 하도급계약에 관련   \n",
       "2         녹색건축 예비인증 후 설계변경시 예비인증을 다시 받아야 하는 경우에 관한 질의   \n",
       "4    (SPP-1803-1600277)임대아파트의 에어컨 실외기 문제로 호소합니다. 저는 임   \n",
       "6                                       [생활불편신고]불법 주차   \n",
       "7                             [생활불편신고]장애인 전용주차구역 불법주차   \n",
       "9                                        특수업무수당 병급 사항   \n",
       "10                                     [생활불편신고]기타생활불편   \n",
       "11   (SPP-1803-1600322)신암로 76   앞 도로에  도로가 깊이 파임. 정비요   \n",
       "12  (재건축) 다채 보유 1인 조합원(토지등소유자 1인)이 1채를 매매매시 조합원 수 ...   \n",
       "\n",
       "                                                   본문  민원발생지        접수기관  \\\n",
       "0   안녕하십니까! 수고많으십니다.\\r\\n\\r\\n농산물(부재료)에 대한 중량표시 및 오차...   전라북도    식품의약품안전처   \n",
       "1   안녕하세요 저는 서울에서 일반토목공사를 하는 현장소장입니다.\\r\\n다름이 아니라 \\...    경기도       국토교통부   \n",
       "2   1. 녹색건축 예비인증을 받은 이후에 각각 아래 1)에서 4)와 같은 설계변경 또는...    경기도       국토교통부   \n",
       "4   [민원 유입 경로]: 모바일\\n[사고발생지역]대구광역시 동구 각산동 1062\\n[기...  대구광역시    한국토지주택공사   \n",
       "6   &lt;불법주정차&gt; 18-03-15 오전부터 24시간 이상 도로변에 불법주차되...   경상남도    경상남도 양산시   \n",
       "7   &lt;장애인 전용주차구역 불법주차&gt; 장애인표시 주차불가이네요[ 상세위치설명 ...   경상남도    경상남도 창원시   \n",
       "9   안녕하세요\\r\\n\\r\\n특수업무수당 병급관련하여 몇가지 여쭤보고 싶어 질의를 합니다...   경상남도       인사혁신처   \n",
       "10  &lt;기타생활불편 상점 매대 불법 인도 점유&gt; 상점의 매대가 인도를 대부분 ...    경기도     경기도 성남시   \n",
       "11  [민원 유입 경로]: 모바일\\n[사고발생지역]부산광역시 부산진구 범천동 1255-8...  부산광역시  부산광역시 부산진구   \n",
       "12  연일 노고에 수고많으십니다.\\r\\n\\r\\n조합원 A는 1-1번지(토지+건물), 2-...    경기도       국토교통부   \n",
       "\n",
       "                                                token  \n",
       "0   안녕하십니까! 수고많으십니다.\\r\\n\\r\\n농산물(부재료)에 대한 중량표시 및 오차...  \n",
       "1   안녕하세요 저는 서울에서 일반토목공사를 하는 현장소장입니다.\\r\\n다름이 아니라 \\...  \n",
       "2   1. 녹색건축 예비인증을 받은 이후에 각각 아래 1)에서 4)와 같은 설계변경 또는...  \n",
       "4   [민원 유입 경로]: 모바일\\n[사고발생지역]대구광역시 동구 각산동 1062\\n[기...  \n",
       "6   &lt;불법주정차&gt; 18-03-15 오전부터 24시간 이상 도로변에 불법주차되...  \n",
       "7   &lt;장애인 전용주차구역 불법주차&gt; 장애인표시 주차불가이네요[ 상세위치설명 ...  \n",
       "9   안녕하세요\\r\\n\\r\\n특수업무수당 병급관련하여 몇가지 여쭤보고 싶어 질의를 합니다...  \n",
       "10  &lt;기타생활불편 상점 매대 불법 인도 점유&gt; 상점의 매대가 인도를 대부분 ...  \n",
       "11  [민원 유입 경로]: 모바일\\n[사고발생지역]부산광역시 부산진구 범천동 1255-8...  \n",
       "12  연일 노고에 수고많으십니다.\\r\\n\\r\\n조합원 A는 1-1번지(토지+건물), 2-...  "
      ]
     },
     "execution_count": 202,
     "metadata": {},
     "output_type": "execute_result"
    }
   ],
   "source": [
    "data_use[:10]\n"
   ]
  },
  {
   "cell_type": "code",
   "execution_count": 157,
   "metadata": {},
   "outputs": [
    {
     "data": {
      "text/html": [
       "<div>\n",
       "<style scoped>\n",
       "    .dataframe tbody tr th:only-of-type {\n",
       "        vertical-align: middle;\n",
       "    }\n",
       "\n",
       "    .dataframe tbody tr th {\n",
       "        vertical-align: top;\n",
       "    }\n",
       "\n",
       "    .dataframe thead th {\n",
       "        text-align: right;\n",
       "    }\n",
       "</style>\n",
       "<table border=\"1\" class=\"dataframe\">\n",
       "  <thead>\n",
       "    <tr style=\"text-align: right;\">\n",
       "      <th></th>\n",
       "      <th>제목</th>\n",
       "      <th>본문</th>\n",
       "      <th>민원발생지</th>\n",
       "      <th>접수기관</th>\n",
       "      <th>token</th>\n",
       "    </tr>\n",
       "  </thead>\n",
       "  <tbody>\n",
       "    <tr>\n",
       "      <th>0</th>\n",
       "      <td>농산물(한방재) 부재료의 중량표시 방법</td>\n",
       "      <td>안녕하십니까! 수고많으십니다.\\r\\n\\r\\n농산물(부재료)에 대한 중량표시 및 오차...</td>\n",
       "      <td>전라북도</td>\n",
       "      <td>식품의약품안전처</td>\n",
       "      <td>안녕하십니까! 수고많으십니다.\\r\\n\\r\\n농산물(부재료)에 대한 중량표시 및 오차...</td>\n",
       "    </tr>\n",
       "    <tr>\n",
       "      <th>1</th>\n",
       "      <td>전문건설업간 하도급계약에 관련</td>\n",
       "      <td>안녕하세요 저는 서울에서 일반토목공사를 하는 현장소장입니다.\\r\\n다름이 아니라 \\...</td>\n",
       "      <td>경기도</td>\n",
       "      <td>국토교통부</td>\n",
       "      <td>안녕하세요 저는 서울에서 일반토목공사를 하는 현장소장입니다.\\r\\n다름이 아니라 \\...</td>\n",
       "    </tr>\n",
       "    <tr>\n",
       "      <th>2</th>\n",
       "      <td>녹색건축 예비인증 후 설계변경시 예비인증을 다시 받아야 하는 경우에 관한 질의</td>\n",
       "      <td>1. 녹색건축 예비인증을 받은 이후에 각각 아래 1)에서 4)와 같은 설계변경 또는...</td>\n",
       "      <td>경기도</td>\n",
       "      <td>국토교통부</td>\n",
       "      <td>1. 녹색건축 예비인증을 받은 이후에 각각 아래 1)에서 4)와 같은 설계변경 또는...</td>\n",
       "    </tr>\n",
       "    <tr>\n",
       "      <th>3</th>\n",
       "      <td>(SPP-1803-1600277)임대아파트의 에어컨 실외기 문제로 호소합니다. 저는 임</td>\n",
       "      <td>[민원 유입 경로]: 모바일\\n[사고발생지역]대구광역시 동구 각산동 1062\\n[기...</td>\n",
       "      <td>대구광역시</td>\n",
       "      <td>한국토지주택공사</td>\n",
       "      <td>[민원 유입 경로]: 모바일\\n[사고발생지역]대구광역시 동구 각산동 1062\\n[기...</td>\n",
       "    </tr>\n",
       "    <tr>\n",
       "      <th>4</th>\n",
       "      <td>[생활불편신고]불법 주차</td>\n",
       "      <td>&amp;lt;불법주정차&amp;gt; 18-03-15 오전부터 24시간 이상 도로변에 불법주차되...</td>\n",
       "      <td>경상남도</td>\n",
       "      <td>경상남도 양산시</td>\n",
       "      <td>&amp;lt;불법주정차&amp;gt; 18-03-15 오전부터 24시간 이상 도로변에 불법주차되...</td>\n",
       "    </tr>\n",
       "    <tr>\n",
       "      <th>5</th>\n",
       "      <td>[생활불편신고]장애인 전용주차구역 불법주차</td>\n",
       "      <td>&amp;lt;장애인 전용주차구역 불법주차&amp;gt; 장애인표시 주차불가이네요[ 상세위치설명 ...</td>\n",
       "      <td>경상남도</td>\n",
       "      <td>경상남도 창원시</td>\n",
       "      <td>&amp;lt;장애인 전용주차구역 불법주차&amp;gt; 장애인표시 주차불가이네요[ 상세위치설명 ...</td>\n",
       "    </tr>\n",
       "    <tr>\n",
       "      <th>6</th>\n",
       "      <td>특수업무수당 병급 사항</td>\n",
       "      <td>안녕하세요\\r\\n\\r\\n특수업무수당 병급관련하여 몇가지 여쭤보고 싶어 질의를 합니다...</td>\n",
       "      <td>경상남도</td>\n",
       "      <td>인사혁신처</td>\n",
       "      <td>안녕하세요\\r\\n\\r\\n특수업무수당 병급관련하여 몇가지 여쭤보고 싶어 질의를 합니다...</td>\n",
       "    </tr>\n",
       "    <tr>\n",
       "      <th>7</th>\n",
       "      <td>[생활불편신고]기타생활불편</td>\n",
       "      <td>&amp;lt;기타생활불편 상점 매대 불법 인도 점유&amp;gt; 상점의 매대가 인도를 대부분 ...</td>\n",
       "      <td>경기도</td>\n",
       "      <td>경기도 성남시</td>\n",
       "      <td>&amp;lt;기타생활불편 상점 매대 불법 인도 점유&amp;gt; 상점의 매대가 인도를 대부분 ...</td>\n",
       "    </tr>\n",
       "    <tr>\n",
       "      <th>8</th>\n",
       "      <td>(SPP-1803-1600322)신암로 76   앞 도로에  도로가 깊이 파임. 정비요</td>\n",
       "      <td>[민원 유입 경로]: 모바일\\n[사고발생지역]부산광역시 부산진구 범천동 1255-8...</td>\n",
       "      <td>부산광역시</td>\n",
       "      <td>부산광역시 부산진구</td>\n",
       "      <td>[민원 유입 경로]: 모바일\\n[사고발생지역]부산광역시 부산진구 범천동 1255-8...</td>\n",
       "    </tr>\n",
       "    <tr>\n",
       "      <th>9</th>\n",
       "      <td>(재건축) 다채 보유 1인 조합원(토지등소유자 1인)이 1채를 매매매시 조합원 수 ...</td>\n",
       "      <td>연일 노고에 수고많으십니다.\\r\\n\\r\\n조합원 A는 1-1번지(토지+건물), 2-...</td>\n",
       "      <td>경기도</td>\n",
       "      <td>국토교통부</td>\n",
       "      <td>연일 노고에 수고많으십니다.\\r\\n\\r\\n조합원 A는 1-1번지(토지+건물), 2-...</td>\n",
       "    </tr>\n",
       "  </tbody>\n",
       "</table>\n",
       "</div>"
      ],
      "text/plain": [
       "                                                  제목  \\\n",
       "0                              농산물(한방재) 부재료의 중량표시 방법   \n",
       "1                                   전문건설업간 하도급계약에 관련   \n",
       "2        녹색건축 예비인증 후 설계변경시 예비인증을 다시 받아야 하는 경우에 관한 질의   \n",
       "3   (SPP-1803-1600277)임대아파트의 에어컨 실외기 문제로 호소합니다. 저는 임   \n",
       "4                                      [생활불편신고]불법 주차   \n",
       "5                            [생활불편신고]장애인 전용주차구역 불법주차   \n",
       "6                                       특수업무수당 병급 사항   \n",
       "7                                     [생활불편신고]기타생활불편   \n",
       "8   (SPP-1803-1600322)신암로 76   앞 도로에  도로가 깊이 파임. 정비요   \n",
       "9  (재건축) 다채 보유 1인 조합원(토지등소유자 1인)이 1채를 매매매시 조합원 수 ...   \n",
       "\n",
       "                                                  본문  민원발생지        접수기관  \\\n",
       "0  안녕하십니까! 수고많으십니다.\\r\\n\\r\\n농산물(부재료)에 대한 중량표시 및 오차...   전라북도    식품의약품안전처   \n",
       "1  안녕하세요 저는 서울에서 일반토목공사를 하는 현장소장입니다.\\r\\n다름이 아니라 \\...    경기도       국토교통부   \n",
       "2  1. 녹색건축 예비인증을 받은 이후에 각각 아래 1)에서 4)와 같은 설계변경 또는...    경기도       국토교통부   \n",
       "3  [민원 유입 경로]: 모바일\\n[사고발생지역]대구광역시 동구 각산동 1062\\n[기...  대구광역시    한국토지주택공사   \n",
       "4  &lt;불법주정차&gt; 18-03-15 오전부터 24시간 이상 도로변에 불법주차되...   경상남도    경상남도 양산시   \n",
       "5  &lt;장애인 전용주차구역 불법주차&gt; 장애인표시 주차불가이네요[ 상세위치설명 ...   경상남도    경상남도 창원시   \n",
       "6  안녕하세요\\r\\n\\r\\n특수업무수당 병급관련하여 몇가지 여쭤보고 싶어 질의를 합니다...   경상남도       인사혁신처   \n",
       "7  &lt;기타생활불편 상점 매대 불법 인도 점유&gt; 상점의 매대가 인도를 대부분 ...    경기도     경기도 성남시   \n",
       "8  [민원 유입 경로]: 모바일\\n[사고발생지역]부산광역시 부산진구 범천동 1255-8...  부산광역시  부산광역시 부산진구   \n",
       "9  연일 노고에 수고많으십니다.\\r\\n\\r\\n조합원 A는 1-1번지(토지+건물), 2-...    경기도       국토교통부   \n",
       "\n",
       "                                               token  \n",
       "0  안녕하십니까! 수고많으십니다.\\r\\n\\r\\n농산물(부재료)에 대한 중량표시 및 오차...  \n",
       "1  안녕하세요 저는 서울에서 일반토목공사를 하는 현장소장입니다.\\r\\n다름이 아니라 \\...  \n",
       "2  1. 녹색건축 예비인증을 받은 이후에 각각 아래 1)에서 4)와 같은 설계변경 또는...  \n",
       "3  [민원 유입 경로]: 모바일\\n[사고발생지역]대구광역시 동구 각산동 1062\\n[기...  \n",
       "4  &lt;불법주정차&gt; 18-03-15 오전부터 24시간 이상 도로변에 불법주차되...  \n",
       "5  &lt;장애인 전용주차구역 불법주차&gt; 장애인표시 주차불가이네요[ 상세위치설명 ...  \n",
       "6  안녕하세요\\r\\n\\r\\n특수업무수당 병급관련하여 몇가지 여쭤보고 싶어 질의를 합니다...  \n",
       "7  &lt;기타생활불편 상점 매대 불법 인도 점유&gt; 상점의 매대가 인도를 대부분 ...  \n",
       "8  [민원 유입 경로]: 모바일\\n[사고발생지역]부산광역시 부산진구 범천동 1255-8...  \n",
       "9  연일 노고에 수고많으십니다.\\r\\n\\r\\n조합원 A는 1-1번지(토지+건물), 2-...  "
      ]
     },
     "execution_count": 157,
     "metadata": {},
     "output_type": "execute_result"
    }
   ],
   "source": [
    "# temp = data_use[:10]\n",
    "# temp.reset_index(inplace = True, drop = True)\n",
    "# temp"
   ]
  },
  {
   "cell_type": "code",
   "execution_count": 210,
   "metadata": {},
   "outputs": [],
   "source": [
    "data_use.reset_index(inplace = True, drop = True)"
   ]
  },
  {
   "cell_type": "markdown",
   "metadata": {},
   "source": [
    "### Pre-processing"
   ]
  },
  {
   "cell_type": "code",
   "execution_count": 211,
   "metadata": {},
   "outputs": [
    {
     "name": "stderr",
     "output_type": "stream",
     "text": [
      "/tmp/ipykernel_16981/2595545255.py:1: SettingWithCopyWarning: \n",
      "A value is trying to be set on a copy of a slice from a DataFrame.\n",
      "Try using .loc[row_indexer,col_indexer] = value instead\n",
      "\n",
      "See the caveats in the documentation: https://pandas.pydata.org/pandas-docs/stable/user_guide/indexing.html#returning-a-view-versus-a-copy\n",
      "  data_use['본문'] = data_use['본문'].str.strip()\n",
      "/tmp/ipykernel_16981/2595545255.py:2: SettingWithCopyWarning: \n",
      "A value is trying to be set on a copy of a slice from a DataFrame.\n",
      "Try using .loc[row_indexer,col_indexer] = value instead\n",
      "\n",
      "See the caveats in the documentation: https://pandas.pydata.org/pandas-docs/stable/user_guide/indexing.html#returning-a-view-versus-a-copy\n",
      "  data_use['본문'] = data_use['본문'].str.replace(\"\\r\\n\", '')\n"
     ]
    }
   ],
   "source": [
    "data_use['본문'] = data_use['본문'].str.strip()\n",
    "data_use['본문'] = data_use['본문'].str.replace(\"\\r\\n\", '')"
   ]
  },
  {
   "cell_type": "markdown",
   "metadata": {},
   "source": [
    "### Tokenizer"
   ]
  },
  {
   "cell_type": "code",
   "execution_count": 206,
   "metadata": {},
   "outputs": [
    {
     "data": {
      "text/plain": [
       "['토크', '나이', '저', '확인']"
      ]
     },
     "execution_count": 206,
     "metadata": {},
     "output_type": "execute_result"
    }
   ],
   "source": [
    "from konlpy.tag import Okt\n",
    "okt = Okt()\n",
    "\n",
    "okt.nouns(\"토크나이저 import가 잘 되었는지 확인합니다\")"
   ]
  },
  {
   "cell_type": "code",
   "execution_count": 212,
   "metadata": {},
   "outputs": [
    {
     "name": "stderr",
     "output_type": "stream",
     "text": [
      "/tmp/ipykernel_16981/3241023004.py:1: SettingWithCopyWarning: \n",
      "A value is trying to be set on a copy of a slice from a DataFrame.\n",
      "Try using .loc[row_indexer,col_indexer] = value instead\n",
      "\n",
      "See the caveats in the documentation: https://pandas.pydata.org/pandas-docs/stable/user_guide/indexing.html#returning-a-view-versus-a-copy\n",
      "  data_use['token'] = data_use['본문'].copy()\n"
     ]
    },
    {
     "data": {
      "text/html": [
       "<div>\n",
       "<style scoped>\n",
       "    .dataframe tbody tr th:only-of-type {\n",
       "        vertical-align: middle;\n",
       "    }\n",
       "\n",
       "    .dataframe tbody tr th {\n",
       "        vertical-align: top;\n",
       "    }\n",
       "\n",
       "    .dataframe thead th {\n",
       "        text-align: right;\n",
       "    }\n",
       "</style>\n",
       "<table border=\"1\" class=\"dataframe\">\n",
       "  <thead>\n",
       "    <tr style=\"text-align: right;\">\n",
       "      <th></th>\n",
       "      <th>제목</th>\n",
       "      <th>본문</th>\n",
       "      <th>민원발생지</th>\n",
       "      <th>접수기관</th>\n",
       "      <th>token</th>\n",
       "    </tr>\n",
       "  </thead>\n",
       "  <tbody>\n",
       "    <tr>\n",
       "      <th>0</th>\n",
       "      <td>농산물(한방재) 부재료의 중량표시 방법</td>\n",
       "      <td>안녕하십니까! 수고많으십니다.농산물(부재료)에 대한 중량표시 및 오차범위에 대한 질...</td>\n",
       "      <td>전라북도</td>\n",
       "      <td>식품의약품안전처</td>\n",
       "      <td>안녕하십니까! 수고많으십니다.농산물(부재료)에 대한 중량표시 및 오차범위에 대한 질...</td>\n",
       "    </tr>\n",
       "    <tr>\n",
       "      <th>1</th>\n",
       "      <td>전문건설업간 하도급계약에 관련</td>\n",
       "      <td>안녕하세요 저는 서울에서 일반토목공사를 하는 현장소장입니다.다름이 아니라 전문공사 ...</td>\n",
       "      <td>경기도</td>\n",
       "      <td>국토교통부</td>\n",
       "      <td>안녕하세요 저는 서울에서 일반토목공사를 하는 현장소장입니다.다름이 아니라 전문공사 ...</td>\n",
       "    </tr>\n",
       "    <tr>\n",
       "      <th>2</th>\n",
       "      <td>녹색건축 예비인증 후 설계변경시 예비인증을 다시 받아야 하는 경우에 관한 질의</td>\n",
       "      <td>1. 녹색건축 예비인증을 받은 이후에 각각 아래 1)에서 4)와 같은 설계변경 또는...</td>\n",
       "      <td>경기도</td>\n",
       "      <td>국토교통부</td>\n",
       "      <td>1. 녹색건축 예비인증을 받은 이후에 각각 아래 1)에서 4)와 같은 설계변경 또는...</td>\n",
       "    </tr>\n",
       "    <tr>\n",
       "      <th>3</th>\n",
       "      <td>(SPP-1803-1600277)임대아파트의 에어컨 실외기 문제로 호소합니다. 저는 임</td>\n",
       "      <td>[민원 유입 경로]: 모바일\\n[사고발생지역]대구광역시 동구 각산동 1062\\n[기...</td>\n",
       "      <td>대구광역시</td>\n",
       "      <td>한국토지주택공사</td>\n",
       "      <td>[민원 유입 경로]: 모바일\\n[사고발생지역]대구광역시 동구 각산동 1062\\n[기...</td>\n",
       "    </tr>\n",
       "    <tr>\n",
       "      <th>4</th>\n",
       "      <td>[생활불편신고]불법 주차</td>\n",
       "      <td>&amp;lt;불법주정차&amp;gt; 18-03-15 오전부터 24시간 이상 도로변에 불법주차되...</td>\n",
       "      <td>경상남도</td>\n",
       "      <td>경상남도 양산시</td>\n",
       "      <td>&amp;lt;불법주정차&amp;gt; 18-03-15 오전부터 24시간 이상 도로변에 불법주차되...</td>\n",
       "    </tr>\n",
       "    <tr>\n",
       "      <th>...</th>\n",
       "      <td>...</td>\n",
       "      <td>...</td>\n",
       "      <td>...</td>\n",
       "      <td>...</td>\n",
       "      <td>...</td>\n",
       "    </tr>\n",
       "    <tr>\n",
       "      <th>1523915</th>\n",
       "      <td>의료법 위반 민원</td>\n",
       "      <td>http://naver.me/5GyhlA5A\\n-포스트 발행 내용 중 치과명 노출 ...</td>\n",
       "      <td>서울특별시</td>\n",
       "      <td>서울특별시 강남구</td>\n",
       "      <td>http://naver.me/5GyhlA5A\\n-포스트 발행 내용 중 치과명 노출 ...</td>\n",
       "    </tr>\n",
       "    <tr>\n",
       "      <th>1523916</th>\n",
       "      <td>청파동3가 134-47외 3필지 신축으로 인한 피해 진정</td>\n",
       "      <td>행복한 도시 건설과 용산 구민을 위해 수고하시는 구청장님 노고에 깊이 감사드립니다....</td>\n",
       "      <td>서울특별시</td>\n",
       "      <td>서울특별시 용산구</td>\n",
       "      <td>행복한 도시 건설과 용산 구민을 위해 수고하시는 구청장님 노고에 깊이 감사드립니다....</td>\n",
       "    </tr>\n",
       "    <tr>\n",
       "      <th>1523917</th>\n",
       "      <td>고덕아르테온 관리업체 선정과정의 부당함에 대한 감사 및 행정지도 요청</td>\n",
       "      <td>고덕아르테온 아파트 관리업체 선정과정에서 입주자대표회의 회장의 부당한 회의진행(특정...</td>\n",
       "      <td>서울특별시</td>\n",
       "      <td>서울특별시 강동구</td>\n",
       "      <td>고덕아르테온 아파트 관리업체 선정과정에서 입주자대표회의 회장의 부당한 회의진행(특정...</td>\n",
       "    </tr>\n",
       "    <tr>\n",
       "      <th>1523918</th>\n",
       "      <td>[서울스마트불편신고(앱)]빌딩 숲 사이에 흡연 장소는 없고 하다보니 다들 골목에 모...</td>\n",
       "      <td>빌딩 숲 사이에 흡연 장소는 없고 하다보니 다들 골목에 모여 담배를 피는데 흡연실까...</td>\n",
       "      <td>NONE</td>\n",
       "      <td>서울특별시</td>\n",
       "      <td>빌딩 숲 사이에 흡연 장소는 없고 하다보니 다들 골목에 모여 담배를 피는데 흡연실까...</td>\n",
       "    </tr>\n",
       "    <tr>\n",
       "      <th>1523919</th>\n",
       "      <td>[120문자신고 접수]서울 강동구 양재대로112길 13 (진...</td>\n",
       "      <td>[120문자신고 접수]\\n서울 강동구 양재대로112길 13 (진황도로47길쪽 뒤) ...</td>\n",
       "      <td>NONE</td>\n",
       "      <td>서울특별시</td>\n",
       "      <td>[120문자신고 접수]\\n서울 강동구 양재대로112길 13 (진황도로47길쪽 뒤) ...</td>\n",
       "    </tr>\n",
       "  </tbody>\n",
       "</table>\n",
       "<p>1523920 rows × 5 columns</p>\n",
       "</div>"
      ],
      "text/plain": [
       "                                                        제목  \\\n",
       "0                                    농산물(한방재) 부재료의 중량표시 방법   \n",
       "1                                         전문건설업간 하도급계약에 관련   \n",
       "2              녹색건축 예비인증 후 설계변경시 예비인증을 다시 받아야 하는 경우에 관한 질의   \n",
       "3         (SPP-1803-1600277)임대아파트의 에어컨 실외기 문제로 호소합니다. 저는 임   \n",
       "4                                            [생활불편신고]불법 주차   \n",
       "...                                                    ...   \n",
       "1523915                                          의료법 위반 민원   \n",
       "1523916                    청파동3가 134-47외 3필지 신축으로 인한 피해 진정   \n",
       "1523917             고덕아르테온 관리업체 선정과정의 부당함에 대한 감사 및 행정지도 요청   \n",
       "1523918  [서울스마트불편신고(앱)]빌딩 숲 사이에 흡연 장소는 없고 하다보니 다들 골목에 모...   \n",
       "1523919               [120문자신고 접수]서울 강동구 양재대로112길 13 (진...   \n",
       "\n",
       "                                                        본문  민원발생지       접수기관  \\\n",
       "0        안녕하십니까! 수고많으십니다.농산물(부재료)에 대한 중량표시 및 오차범위에 대한 질...   전라북도   식품의약품안전처   \n",
       "1        안녕하세요 저는 서울에서 일반토목공사를 하는 현장소장입니다.다름이 아니라 전문공사 ...    경기도      국토교통부   \n",
       "2        1. 녹색건축 예비인증을 받은 이후에 각각 아래 1)에서 4)와 같은 설계변경 또는...    경기도      국토교통부   \n",
       "3        [민원 유입 경로]: 모바일\\n[사고발생지역]대구광역시 동구 각산동 1062\\n[기...  대구광역시   한국토지주택공사   \n",
       "4        &lt;불법주정차&gt; 18-03-15 오전부터 24시간 이상 도로변에 불법주차되...   경상남도   경상남도 양산시   \n",
       "...                                                    ...    ...        ...   \n",
       "1523915  http://naver.me/5GyhlA5A\\n-포스트 발행 내용 중 치과명 노출 ...  서울특별시  서울특별시 강남구   \n",
       "1523916  행복한 도시 건설과 용산 구민을 위해 수고하시는 구청장님 노고에 깊이 감사드립니다....  서울특별시  서울특별시 용산구   \n",
       "1523917  고덕아르테온 아파트 관리업체 선정과정에서 입주자대표회의 회장의 부당한 회의진행(특정...  서울특별시  서울특별시 강동구   \n",
       "1523918  빌딩 숲 사이에 흡연 장소는 없고 하다보니 다들 골목에 모여 담배를 피는데 흡연실까...   NONE      서울특별시   \n",
       "1523919  [120문자신고 접수]\\n서울 강동구 양재대로112길 13 (진황도로47길쪽 뒤) ...   NONE      서울특별시   \n",
       "\n",
       "                                                     token  \n",
       "0        안녕하십니까! 수고많으십니다.농산물(부재료)에 대한 중량표시 및 오차범위에 대한 질...  \n",
       "1        안녕하세요 저는 서울에서 일반토목공사를 하는 현장소장입니다.다름이 아니라 전문공사 ...  \n",
       "2        1. 녹색건축 예비인증을 받은 이후에 각각 아래 1)에서 4)와 같은 설계변경 또는...  \n",
       "3        [민원 유입 경로]: 모바일\\n[사고발생지역]대구광역시 동구 각산동 1062\\n[기...  \n",
       "4        &lt;불법주정차&gt; 18-03-15 오전부터 24시간 이상 도로변에 불법주차되...  \n",
       "...                                                    ...  \n",
       "1523915  http://naver.me/5GyhlA5A\\n-포스트 발행 내용 중 치과명 노출 ...  \n",
       "1523916  행복한 도시 건설과 용산 구민을 위해 수고하시는 구청장님 노고에 깊이 감사드립니다....  \n",
       "1523917  고덕아르테온 아파트 관리업체 선정과정에서 입주자대표회의 회장의 부당한 회의진행(특정...  \n",
       "1523918  빌딩 숲 사이에 흡연 장소는 없고 하다보니 다들 골목에 모여 담배를 피는데 흡연실까...  \n",
       "1523919  [120문자신고 접수]\\n서울 강동구 양재대로112길 13 (진황도로47길쪽 뒤) ...  \n",
       "\n",
       "[1523920 rows x 5 columns]"
      ]
     },
     "execution_count": 212,
     "metadata": {},
     "output_type": "execute_result"
    }
   ],
   "source": [
    "data_use['token'] = data_use['본문'].copy()\n",
    "data_use"
   ]
  },
  {
   "cell_type": "code",
   "execution_count": 218,
   "metadata": {},
   "outputs": [
    {
     "name": "stderr",
     "output_type": "stream",
     "text": [
      "/tmp/ipykernel_16981/3497198943.py:3: SettingWithCopyWarning: \n",
      "A value is trying to be set on a copy of a slice from a DataFrame.\n",
      "Try using .loc[row_indexer,col_indexer] = value instead\n",
      "\n",
      "See the caveats in the documentation: https://pandas.pydata.org/pandas-docs/stable/user_guide/indexing.html#returning-a-view-versus-a-copy\n",
      "  data_use['token'] = copy.deepcopy(data_use['본문'])\n",
      "  0%|          | 0/1523920 [00:00<?, ?it/s]/tmp/ipykernel_16981/3497198943.py:11: SettingWithCopyWarning: \n",
      "A value is trying to be set on a copy of a slice from a DataFrame\n",
      "\n",
      "See the caveats in the documentation: https://pandas.pydata.org/pandas-docs/stable/user_guide/indexing.html#returning-a-view-versus-a-copy\n",
      "  data_use['token'][idx] = tok\n",
      "  0%|          | 1033/1523920 [00:39<22:11:07, 19.07it/s]/tmp/ipykernel_16981/3497198943.py:13: SettingWithCopyWarning: \n",
      "A value is trying to be set on a copy of a slice from a DataFrame\n",
      "\n",
      "See the caveats in the documentation: https://pandas.pydata.org/pandas-docs/stable/user_guide/indexing.html#returning-a-view-versus-a-copy\n",
      "  data_use['token'][idx] = \"TOO LONG\"\n",
      " 66%|██████▌   | 1001852/1523920 [45:10:18<23:32:20,  6.16it/s] \n"
     ]
    },
    {
     "ename": "KeyboardInterrupt",
     "evalue": "",
     "output_type": "error",
     "traceback": [
      "\u001b[0;31m---------------------------------------------------------------------------\u001b[0m",
      "\u001b[0;31mKeyboardInterrupt\u001b[0m                         Traceback (most recent call last)",
      "\u001b[1;32m/home/mglee/VSCODE/git_folder/complain_QnA/code/DATA_EDA.ipynb Cell 23'\u001b[0m in \u001b[0;36m<cell line: 4>\u001b[0;34m()\u001b[0m\n\u001b[1;32m      <a href='vscode-notebook-cell://ssh-remote%2B141.223.144.85/home/mglee/VSCODE/git_folder/complain_QnA/code/DATA_EDA.ipynb#ch0000026vscode-remote?line=6'>7</a>\u001b[0m     tok \u001b[39m=\u001b[39m \u001b[39m\"\u001b[39m\u001b[39mTOO LONG\u001b[39m\u001b[39m\"\u001b[39m\n\u001b[1;32m      <a href='vscode-notebook-cell://ssh-remote%2B141.223.144.85/home/mglee/VSCODE/git_folder/complain_QnA/code/DATA_EDA.ipynb#ch0000026vscode-remote?line=7'>8</a>\u001b[0m \u001b[39melse\u001b[39;00m:\n\u001b[0;32m----> <a href='vscode-notebook-cell://ssh-remote%2B141.223.144.85/home/mglee/VSCODE/git_folder/complain_QnA/code/DATA_EDA.ipynb#ch0000026vscode-remote?line=8'>9</a>\u001b[0m     tok \u001b[39m=\u001b[39m okt\u001b[39m.\u001b[39;49mnouns(text)\n\u001b[1;32m     <a href='vscode-notebook-cell://ssh-remote%2B141.223.144.85/home/mglee/VSCODE/git_folder/complain_QnA/code/DATA_EDA.ipynb#ch0000026vscode-remote?line=9'>10</a>\u001b[0m     \u001b[39mif\u001b[39;00m \u001b[39mlen\u001b[39m(tok) \u001b[39m<\u001b[39m \u001b[39m512\u001b[39m:\n\u001b[1;32m     <a href='vscode-notebook-cell://ssh-remote%2B141.223.144.85/home/mglee/VSCODE/git_folder/complain_QnA/code/DATA_EDA.ipynb#ch0000026vscode-remote?line=10'>11</a>\u001b[0m         data_use[\u001b[39m'\u001b[39m\u001b[39mtoken\u001b[39m\u001b[39m'\u001b[39m][idx] \u001b[39m=\u001b[39m tok\n",
      "File \u001b[0;32m~/.conda/envs/svmglee/lib/python3.8/site-packages/konlpy/tag/_okt.py:72\u001b[0m, in \u001b[0;36mOkt.nouns\u001b[0;34m(self, phrase)\u001b[0m\n\u001b[1;32m     69\u001b[0m \u001b[39mdef\u001b[39;00m \u001b[39mnouns\u001b[39m(\u001b[39mself\u001b[39m, phrase):\n\u001b[1;32m     70\u001b[0m     \u001b[39m\"\"\"Noun extractor.\"\"\"\u001b[39;00m\n\u001b[0;32m---> 72\u001b[0m     tagged \u001b[39m=\u001b[39m \u001b[39mself\u001b[39;49m\u001b[39m.\u001b[39;49mpos(phrase)\n\u001b[1;32m     73\u001b[0m     \u001b[39mreturn\u001b[39;00m [s \u001b[39mfor\u001b[39;00m s, t \u001b[39min\u001b[39;00m tagged \u001b[39mif\u001b[39;00m t \u001b[39m==\u001b[39m \u001b[39m'\u001b[39m\u001b[39mNoun\u001b[39m\u001b[39m'\u001b[39m]\n",
      "File \u001b[0;32m~/.conda/envs/svmglee/lib/python3.8/site-packages/konlpy/tag/_okt.py:60\u001b[0m, in \u001b[0;36mOkt.pos\u001b[0;34m(self, phrase, norm, stem, join)\u001b[0m\n\u001b[1;32m     48\u001b[0m \u001b[39mdef\u001b[39;00m \u001b[39mpos\u001b[39m(\u001b[39mself\u001b[39m, phrase, norm\u001b[39m=\u001b[39m\u001b[39mFalse\u001b[39;00m, stem\u001b[39m=\u001b[39m\u001b[39mFalse\u001b[39;00m, join\u001b[39m=\u001b[39m\u001b[39mFalse\u001b[39;00m):\n\u001b[1;32m     49\u001b[0m     \u001b[39m\"\"\"POS tagger.\u001b[39;00m\n\u001b[1;32m     50\u001b[0m \u001b[39m    In contrast to other classes in this subpackage,\u001b[39;00m\n\u001b[1;32m     51\u001b[0m \u001b[39m    this POS tagger doesn't have a `flatten` option,\u001b[39;00m\n\u001b[0;32m   (...)\u001b[0m\n\u001b[1;32m     57\u001b[0m \u001b[39m    :param join: If True, returns joined sets of morph and tag.\u001b[39;00m\n\u001b[1;32m     58\u001b[0m \u001b[39m    \"\"\"\u001b[39;00m\n\u001b[0;32m---> 60\u001b[0m     tokens \u001b[39m=\u001b[39m \u001b[39mself\u001b[39;49m\u001b[39m.\u001b[39;49mjki\u001b[39m.\u001b[39;49mtokenize(\n\u001b[1;32m     61\u001b[0m                 phrase,\n\u001b[1;32m     62\u001b[0m                 jpype\u001b[39m.\u001b[39;49mjava\u001b[39m.\u001b[39;49mlang\u001b[39m.\u001b[39;49mBoolean(norm),\n\u001b[1;32m     63\u001b[0m                 jpype\u001b[39m.\u001b[39;49mjava\u001b[39m.\u001b[39;49mlang\u001b[39m.\u001b[39;49mBoolean(stem))\u001b[39m.\u001b[39mtoArray()\n\u001b[1;32m     64\u001b[0m     \u001b[39mif\u001b[39;00m join:\n\u001b[1;32m     65\u001b[0m         \u001b[39mreturn\u001b[39;00m [t \u001b[39mfor\u001b[39;00m t \u001b[39min\u001b[39;00m tokens]\n",
      "\u001b[0;31mKeyboardInterrupt\u001b[0m: "
     ]
    }
   ],
   "source": [
    "import copy\n",
    "from tqdm import tqdm\n",
    "data_use['token'] = copy.deepcopy(data_use['본문'])\n",
    "for idx, text in enumerate(tqdm(data_use['token'])):\n",
    "    text = str(text)\n",
    "    if len(text) > 3000:\n",
    "        tok = \"TOO LONG\"\n",
    "    else:\n",
    "        tok = okt.nouns(text)\n",
    "        if len(tok) < 512:\n",
    "            data_use['token'][idx] = tok\n",
    "        else:\n",
    "            data_use['token'][idx] = \"TOO LONG\""
   ]
  },
  {
   "cell_type": "code",
   "execution_count": 219,
   "metadata": {},
   "outputs": [
    {
     "data": {
      "text/html": [
       "<div>\n",
       "<style scoped>\n",
       "    .dataframe tbody tr th:only-of-type {\n",
       "        vertical-align: middle;\n",
       "    }\n",
       "\n",
       "    .dataframe tbody tr th {\n",
       "        vertical-align: top;\n",
       "    }\n",
       "\n",
       "    .dataframe thead th {\n",
       "        text-align: right;\n",
       "    }\n",
       "</style>\n",
       "<table border=\"1\" class=\"dataframe\">\n",
       "  <thead>\n",
       "    <tr style=\"text-align: right;\">\n",
       "      <th></th>\n",
       "      <th>제목</th>\n",
       "      <th>본문</th>\n",
       "      <th>민원발생지</th>\n",
       "      <th>접수기관</th>\n",
       "      <th>token</th>\n",
       "    </tr>\n",
       "  </thead>\n",
       "  <tbody>\n",
       "    <tr>\n",
       "      <th>0</th>\n",
       "      <td>농산물(한방재) 부재료의 중량표시 방법</td>\n",
       "      <td>안녕하십니까! 수고많으십니다.농산물(부재료)에 대한 중량표시 및 오차범위에 대한 질...</td>\n",
       "      <td>전라북도</td>\n",
       "      <td>식품의약품안전처</td>\n",
       "      <td>[안녕하십니까, 수고, 농산물, 부, 재료, 대한, 중량, 표시, 및, 오차, 범위...</td>\n",
       "    </tr>\n",
       "    <tr>\n",
       "      <th>1</th>\n",
       "      <td>전문건설업간 하도급계약에 관련</td>\n",
       "      <td>안녕하세요 저는 서울에서 일반토목공사를 하는 현장소장입니다.다름이 아니라 전문공사 ...</td>\n",
       "      <td>경기도</td>\n",
       "      <td>국토교통부</td>\n",
       "      <td>[저, 서울, 토목공사, 장소, 전문, 공사, 상하, 수도, 설비, 사업, 발주, ...</td>\n",
       "    </tr>\n",
       "    <tr>\n",
       "      <th>2</th>\n",
       "      <td>녹색건축 예비인증 후 설계변경시 예비인증을 다시 받아야 하는 경우에 관한 질의</td>\n",
       "      <td>1. 녹색건축 예비인증을 받은 이후에 각각 아래 1)에서 4)와 같은 설계변경 또는...</td>\n",
       "      <td>경기도</td>\n",
       "      <td>국토교통부</td>\n",
       "      <td>[녹색건축, 예비, 인증, 이후, 각각, 아래, 설계, 변경, 사업, 변경, 발생,...</td>\n",
       "    </tr>\n",
       "    <tr>\n",
       "      <th>3</th>\n",
       "      <td>(SPP-1803-1600277)임대아파트의 에어컨 실외기 문제로 호소합니다. 저는 임</td>\n",
       "      <td>[민원 유입 경로]: 모바일\\n[사고발생지역]대구광역시 동구 각산동 1062\\n[기...</td>\n",
       "      <td>대구광역시</td>\n",
       "      <td>한국토지주택공사</td>\n",
       "      <td>[민원, 유입, 경로, 모바일, 사고, 발생, 지역, 대구광역시, 동구, 각산동, ...</td>\n",
       "    </tr>\n",
       "    <tr>\n",
       "      <th>4</th>\n",
       "      <td>[생활불편신고]불법 주차</td>\n",
       "      <td>&amp;lt;불법주정차&amp;gt; 18-03-15 오전부터 24시간 이상 도로변에 불법주차되...</td>\n",
       "      <td>경상남도</td>\n",
       "      <td>경상남도 양산시</td>\n",
       "      <td>[불법, 정차, 오전, 이상, 도로, 변, 불법, 주차, 오늘, 사진, 첨부, 신고...</td>\n",
       "    </tr>\n",
       "  </tbody>\n",
       "</table>\n",
       "</div>"
      ],
      "text/plain": [
       "                                                 제목  \\\n",
       "0                             농산물(한방재) 부재료의 중량표시 방법   \n",
       "1                                  전문건설업간 하도급계약에 관련   \n",
       "2       녹색건축 예비인증 후 설계변경시 예비인증을 다시 받아야 하는 경우에 관한 질의   \n",
       "3  (SPP-1803-1600277)임대아파트의 에어컨 실외기 문제로 호소합니다. 저는 임   \n",
       "4                                     [생활불편신고]불법 주차   \n",
       "\n",
       "                                                  본문  민원발생지      접수기관  \\\n",
       "0  안녕하십니까! 수고많으십니다.농산물(부재료)에 대한 중량표시 및 오차범위에 대한 질...   전라북도  식품의약품안전처   \n",
       "1  안녕하세요 저는 서울에서 일반토목공사를 하는 현장소장입니다.다름이 아니라 전문공사 ...    경기도     국토교통부   \n",
       "2  1. 녹색건축 예비인증을 받은 이후에 각각 아래 1)에서 4)와 같은 설계변경 또는...    경기도     국토교통부   \n",
       "3  [민원 유입 경로]: 모바일\\n[사고발생지역]대구광역시 동구 각산동 1062\\n[기...  대구광역시  한국토지주택공사   \n",
       "4  &lt;불법주정차&gt; 18-03-15 오전부터 24시간 이상 도로변에 불법주차되...   경상남도  경상남도 양산시   \n",
       "\n",
       "                                               token  \n",
       "0  [안녕하십니까, 수고, 농산물, 부, 재료, 대한, 중량, 표시, 및, 오차, 범위...  \n",
       "1  [저, 서울, 토목공사, 장소, 전문, 공사, 상하, 수도, 설비, 사업, 발주, ...  \n",
       "2  [녹색건축, 예비, 인증, 이후, 각각, 아래, 설계, 변경, 사업, 변경, 발생,...  \n",
       "3  [민원, 유입, 경로, 모바일, 사고, 발생, 지역, 대구광역시, 동구, 각산동, ...  \n",
       "4  [불법, 정차, 오전, 이상, 도로, 변, 불법, 주차, 오늘, 사진, 첨부, 신고...  "
      ]
     },
     "execution_count": 219,
     "metadata": {},
     "output_type": "execute_result"
    }
   ],
   "source": [
    "data_use.head()"
   ]
  },
  {
   "cell_type": "code",
   "execution_count": 226,
   "metadata": {},
   "outputs": [],
   "source": [
    "data_tokenized = data_use.iloc[:1000000,:]"
   ]
  },
  {
   "cell_type": "code",
   "execution_count": 227,
   "metadata": {},
   "outputs": [
    {
     "data": {
      "text/html": [
       "<div>\n",
       "<style scoped>\n",
       "    .dataframe tbody tr th:only-of-type {\n",
       "        vertical-align: middle;\n",
       "    }\n",
       "\n",
       "    .dataframe tbody tr th {\n",
       "        vertical-align: top;\n",
       "    }\n",
       "\n",
       "    .dataframe thead th {\n",
       "        text-align: right;\n",
       "    }\n",
       "</style>\n",
       "<table border=\"1\" class=\"dataframe\">\n",
       "  <thead>\n",
       "    <tr style=\"text-align: right;\">\n",
       "      <th></th>\n",
       "      <th>제목</th>\n",
       "      <th>본문</th>\n",
       "      <th>민원발생지</th>\n",
       "      <th>접수기관</th>\n",
       "      <th>token</th>\n",
       "    </tr>\n",
       "  </thead>\n",
       "  <tbody>\n",
       "    <tr>\n",
       "      <th>999995</th>\n",
       "      <td>(SPP-2103-1507152)우회전차선 진입 후 앞의 차의 주정차로 인해 교통흐름을</td>\n",
       "      <td>[민원 유입 경로]: 모바일\\n[사고발생지역]경상남도 창원시 의창구 동읍 용잠리 2...</td>\n",
       "      <td>경상남도</td>\n",
       "      <td>경상남도 창원시</td>\n",
       "      <td>[민원, 유입, 경로, 모바일, 사고, 발생, 지역, 경상남도, 창원시, 의창구, ...</td>\n",
       "    </tr>\n",
       "    <tr>\n",
       "      <th>999996</th>\n",
       "      <td>억울한 운영정지 자격정지 처분에 대한 심의를 다시금 부탁드립니다</td>\n",
       "      <td>안녕하십니까 저는 남양주시 오남읍에 위치한 가정어린이집 원장입니다 작년 9월 어린이...</td>\n",
       "      <td>경기도</td>\n",
       "      <td>보건복지부</td>\n",
       "      <td>[안녕하십니까, 저, 남양주시, 오남읍, 위치, 가정, 어린이집, 원장, 작년, 어...</td>\n",
       "    </tr>\n",
       "    <tr>\n",
       "      <th>999997</th>\n",
       "      <td>가양1동 주민센터 남자직원분</td>\n",
       "      <td>3월15일 오후2시에서 3시사이에 4번창구에서 근무하던 남자분 이름을 차마 제가 못...</td>\n",
       "      <td>서울특별시</td>\n",
       "      <td>서울특별시</td>\n",
       "      <td>[오후, 번, 창구, 근무, 남자, 이름, 차마, 제, 후회, 앞, 아주머니, 업무...</td>\n",
       "    </tr>\n",
       "    <tr>\n",
       "      <th>999998</th>\n",
       "      <td>(SPP-2103-1507122)기타 불법주정차 불법 주정차 신고입니다.\\n\\n* ...</td>\n",
       "      <td>[민원 유입 경로]: 모바일\\n[사고발생지역]경상북도 구미시 송정동 518\\n기타 ...</td>\n",
       "      <td>경상북도</td>\n",
       "      <td>경상북도 구미시</td>\n",
       "      <td>[민원, 유입, 경로, 모바일, 사고, 발생, 지역, 경상북도, 구미시, 송정동, ...</td>\n",
       "    </tr>\n",
       "    <tr>\n",
       "      <th>999999</th>\n",
       "      <td>(SPP-2103-1507121)2021년 3월 10일 오후 4시 8분경\\n33어 634</td>\n",
       "      <td>[민원 유입 경로]: 모바일\\n[사고발생지역]경상북도 경주시 구정동 632-1\\n2...</td>\n",
       "      <td>울산광역시</td>\n",
       "      <td>경찰청</td>\n",
       "      <td>[민원, 유입, 경로, 모바일, 사고, 발생, 지역, 경상북도, 경주시, 구정동, ...</td>\n",
       "    </tr>\n",
       "  </tbody>\n",
       "</table>\n",
       "</div>"
      ],
      "text/plain": [
       "                                                       제목  \\\n",
       "999995   (SPP-2103-1507152)우회전차선 진입 후 앞의 차의 주정차로 인해 교통흐름을   \n",
       "999996               억울한 운영정지 자격정지 처분에 대한 심의를 다시금 부탁드립니다    \n",
       "999997                                    가양1동 주민센터 남자직원분   \n",
       "999998  (SPP-2103-1507122)기타 불법주정차 불법 주정차 신고입니다.\\n\\n* ...   \n",
       "999999  (SPP-2103-1507121)2021년 3월 10일 오후 4시 8분경\\n33어 634   \n",
       "\n",
       "                                                       본문  민원발생지      접수기관  \\\n",
       "999995  [민원 유입 경로]: 모바일\\n[사고발생지역]경상남도 창원시 의창구 동읍 용잠리 2...   경상남도  경상남도 창원시   \n",
       "999996  안녕하십니까 저는 남양주시 오남읍에 위치한 가정어린이집 원장입니다 작년 9월 어린이...    경기도     보건복지부   \n",
       "999997  3월15일 오후2시에서 3시사이에 4번창구에서 근무하던 남자분 이름을 차마 제가 못...  서울특별시     서울특별시   \n",
       "999998  [민원 유입 경로]: 모바일\\n[사고발생지역]경상북도 구미시 송정동 518\\n기타 ...   경상북도  경상북도 구미시   \n",
       "999999  [민원 유입 경로]: 모바일\\n[사고발생지역]경상북도 경주시 구정동 632-1\\n2...  울산광역시       경찰청   \n",
       "\n",
       "                                                    token  \n",
       "999995  [민원, 유입, 경로, 모바일, 사고, 발생, 지역, 경상남도, 창원시, 의창구, ...  \n",
       "999996  [안녕하십니까, 저, 남양주시, 오남읍, 위치, 가정, 어린이집, 원장, 작년, 어...  \n",
       "999997  [오후, 번, 창구, 근무, 남자, 이름, 차마, 제, 후회, 앞, 아주머니, 업무...  \n",
       "999998  [민원, 유입, 경로, 모바일, 사고, 발생, 지역, 경상북도, 구미시, 송정동, ...  \n",
       "999999  [민원, 유입, 경로, 모바일, 사고, 발생, 지역, 경상북도, 경주시, 구정동, ...  "
      ]
     },
     "execution_count": 227,
     "metadata": {},
     "output_type": "execute_result"
    }
   ],
   "source": [
    "data_tokenized.tail()"
   ]
  },
  {
   "cell_type": "code",
   "execution_count": 220,
   "metadata": {},
   "outputs": [],
   "source": [
    "data_tokenized.to_pickle(\"../result/sample5_tokenized.pkl\")"
   ]
  }
 ],
 "metadata": {
  "kernelspec": {
   "display_name": "Python 3.8.12 ('svmglee')",
   "language": "python",
   "name": "python3"
  },
  "language_info": {
   "codemirror_mode": {
    "name": "ipython",
    "version": 3
   },
   "file_extension": ".py",
   "mimetype": "text/x-python",
   "name": "python",
   "nbconvert_exporter": "python",
   "pygments_lexer": "ipython3",
   "version": "3.8.12"
  },
  "orig_nbformat": 4,
  "vscode": {
   "interpreter": {
    "hash": "c6f34507fa43ba317958b721fa8398d2051b96ef3f3b32ff98429c26ce06f8cf"
   }
  }
 },
 "nbformat": 4,
 "nbformat_minor": 2
}
