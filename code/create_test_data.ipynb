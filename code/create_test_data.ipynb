{
 "cells": [
  {
   "cell_type": "code",
   "execution_count": 2,
   "metadata": {},
   "outputs": [],
   "source": [
    "import pandas as pd"
   ]
  },
  {
   "cell_type": "code",
   "execution_count": 3,
   "metadata": {},
   "outputs": [],
   "source": [
    "data = pd.read_pickle(\"../data/sample5_df.pkl\")"
   ]
  },
  {
   "cell_type": "code",
   "execution_count": 4,
   "metadata": {},
   "outputs": [
    {
     "name": "stdout",
     "output_type": "stream",
     "text": [
      "<class 'pandas.core.frame.DataFrame'>\n",
      "Int64Index: 1705279 entries, 0 to 426253\n",
      "Data columns (total 11 columns):\n",
      " #   Column  Dtype  \n",
      "---  ------  -----  \n",
      " 0   제목      object \n",
      " 1   본문      object \n",
      " 2   민원발생지   object \n",
      " 3   민원신청경로  object \n",
      " 4   접수기관    object \n",
      " 5   처리부서    object \n",
      " 6   성별      object \n",
      " 7   나이      float64\n",
      " 8   접수일     object \n",
      " 9   year    float64\n",
      " 10  type    object \n",
      "dtypes: float64(2), object(9)\n",
      "memory usage: 156.1+ MB\n"
     ]
    }
   ],
   "source": [
    "data.info()"
   ]
  },
  {
   "cell_type": "code",
   "execution_count": 5,
   "metadata": {},
   "outputs": [],
   "source": [
    "depart_count = data.groupby('처리부서').count()['제목']\n",
    "depart_count = pd.DataFrame(depart_count).reset_index()\n",
    "depart_count.columns = ['처리부서', 'freq']\n",
    "depart_count = depart_count.sort_values('freq', ascending=False)"
   ]
  },
  {
   "cell_type": "code",
   "execution_count": 6,
   "metadata": {},
   "outputs": [],
   "source": [
    "depart_use = list(depart_count[depart_count.freq > 50]['처리부서'])"
   ]
  },
  {
   "cell_type": "code",
   "execution_count": 7,
   "metadata": {},
   "outputs": [
    {
     "data": {
      "text/plain": [
       "3298"
      ]
     },
     "execution_count": 7,
     "metadata": {},
     "output_type": "execute_result"
    }
   ],
   "source": [
    "len(depart_use)"
   ]
  },
  {
   "cell_type": "code",
   "execution_count": 8,
   "metadata": {},
   "outputs": [],
   "source": [
    "idx_lst = []\n",
    "for idx, department in enumerate(data['처리부서']):\n",
    "    if department in depart_use:\n",
    "        idx_lst.append(idx)"
   ]
  },
  {
   "cell_type": "code",
   "execution_count": 9,
   "metadata": {},
   "outputs": [
    {
     "name": "stdout",
     "output_type": "stream",
     "text": [
      "Before reduce : 1705279     After reduce : 1523920\n"
     ]
    }
   ],
   "source": [
    "print(f\"Before reduce : {len(data)} \\\n",
    "    After reduce : {len(idx_lst)}\")"
   ]
  },
  {
   "cell_type": "markdown",
   "metadata": {},
   "source": [
    "### 처리부서보다 접수 기관을 target으로 사용하는게 더 좋아보여서 방향 재설정"
   ]
  },
  {
   "cell_type": "code",
   "execution_count": 10,
   "metadata": {},
   "outputs": [],
   "source": [
    "data = data[['제목', '본문', '민원발생지', '접수기관']]"
   ]
  },
  {
   "cell_type": "code",
   "execution_count": 11,
   "metadata": {},
   "outputs": [],
   "source": [
    "data_use = data.iloc[idx_lst,:]"
   ]
  },
  {
   "cell_type": "code",
   "execution_count": 12,
   "metadata": {},
   "outputs": [
    {
     "data": {
      "text/html": [
       "<div>\n",
       "<style scoped>\n",
       "    .dataframe tbody tr th:only-of-type {\n",
       "        vertical-align: middle;\n",
       "    }\n",
       "\n",
       "    .dataframe tbody tr th {\n",
       "        vertical-align: top;\n",
       "    }\n",
       "\n",
       "    .dataframe thead th {\n",
       "        text-align: right;\n",
       "    }\n",
       "</style>\n",
       "<table border=\"1\" class=\"dataframe\">\n",
       "  <thead>\n",
       "    <tr style=\"text-align: right;\">\n",
       "      <th></th>\n",
       "      <th>제목</th>\n",
       "      <th>본문</th>\n",
       "      <th>민원발생지</th>\n",
       "      <th>접수기관</th>\n",
       "    </tr>\n",
       "  </thead>\n",
       "  <tbody>\n",
       "    <tr>\n",
       "      <th>0</th>\n",
       "      <td>농산물(한방재) 부재료의 중량표시 방법</td>\n",
       "      <td>안녕하십니까! 수고많으십니다.\\r\\n\\r\\n농산물(부재료)에 대한 중량표시 및 오차...</td>\n",
       "      <td>전라북도</td>\n",
       "      <td>식품의약품안전처</td>\n",
       "    </tr>\n",
       "  </tbody>\n",
       "</table>\n",
       "</div>"
      ],
      "text/plain": [
       "                      제목                                                 본문  \\\n",
       "0  농산물(한방재) 부재료의 중량표시 방법  안녕하십니까! 수고많으십니다.\\r\\n\\r\\n농산물(부재료)에 대한 중량표시 및 오차...   \n",
       "\n",
       "  민원발생지      접수기관  \n",
       "0  전라북도  식품의약품안전처  "
      ]
     },
     "execution_count": 12,
     "metadata": {},
     "output_type": "execute_result"
    }
   ],
   "source": [
    "data_use.head(1)"
   ]
  },
  {
   "cell_type": "code",
   "execution_count": 13,
   "metadata": {},
   "outputs": [
    {
     "data": {
      "text/plain": [
       "count       332.000000\n",
       "mean       4590.117470\n",
       "std       20570.565727\n",
       "min          51.000000\n",
       "25%         211.500000\n",
       "50%        1172.000000\n",
       "75%        3251.000000\n",
       "max      331532.000000\n",
       "Name: 제목, dtype: float64"
      ]
     },
     "execution_count": 13,
     "metadata": {},
     "output_type": "execute_result"
    }
   ],
   "source": [
    "data_use.groupby('접수기관').count()['제목'].describe()"
   ]
  },
  {
   "cell_type": "code",
   "execution_count": 14,
   "metadata": {},
   "outputs": [
    {
     "data": {
      "text/plain": [
       "접수기관\n",
       "서울특별시       331533\n",
       "한국토지주택공사    104355\n",
       "경찰청         101214\n",
       "국토교통부        83390\n",
       "경기도 고양시      34245\n",
       "             ...  \n",
       "근로복지공단          53\n",
       "서민금융진흥원         53\n",
       "경기도 연천군         52\n",
       "전라남도교육청         51\n",
       "인천시설공단          51\n",
       "Length: 332, dtype: int64"
      ]
     },
     "execution_count": 14,
     "metadata": {},
     "output_type": "execute_result"
    }
   ],
   "source": [
    "data_use.value_counts('접수기관')"
   ]
  },
  {
   "cell_type": "code",
   "execution_count": 11,
   "metadata": {},
   "outputs": [
    {
     "data": {
      "text/html": [
       "<div>\n",
       "<style scoped>\n",
       "    .dataframe tbody tr th:only-of-type {\n",
       "        vertical-align: middle;\n",
       "    }\n",
       "\n",
       "    .dataframe tbody tr th {\n",
       "        vertical-align: top;\n",
       "    }\n",
       "\n",
       "    .dataframe thead th {\n",
       "        text-align: right;\n",
       "    }\n",
       "</style>\n",
       "<table border=\"1\" class=\"dataframe\">\n",
       "  <thead>\n",
       "    <tr style=\"text-align: right;\">\n",
       "      <th></th>\n",
       "      <th>제목</th>\n",
       "      <th>본문</th>\n",
       "      <th>민원발생지</th>\n",
       "      <th>접수기관</th>\n",
       "    </tr>\n",
       "  </thead>\n",
       "  <tbody>\n",
       "    <tr>\n",
       "      <th>0</th>\n",
       "      <td>농산물(한방재) 부재료의 중량표시 방법</td>\n",
       "      <td>안녕하십니까! 수고많으십니다.\\r\\n\\r\\n농산물(부재료)에 대한 중량표시 및 오차...</td>\n",
       "      <td>전라북도</td>\n",
       "      <td>식품의약품안전처</td>\n",
       "    </tr>\n",
       "    <tr>\n",
       "      <th>1</th>\n",
       "      <td>전문건설업간 하도급계약에 관련</td>\n",
       "      <td>안녕하세요 저는 서울에서 일반토목공사를 하는 현장소장입니다.\\r\\n다름이 아니라 \\...</td>\n",
       "      <td>경기도</td>\n",
       "      <td>국토교통부</td>\n",
       "    </tr>\n",
       "    <tr>\n",
       "      <th>2</th>\n",
       "      <td>녹색건축 예비인증 후 설계변경시 예비인증을 다시 받아야 하는 경우에 관한 질의</td>\n",
       "      <td>1. 녹색건축 예비인증을 받은 이후에 각각 아래 1)에서 4)와 같은 설계변경 또는...</td>\n",
       "      <td>경기도</td>\n",
       "      <td>국토교통부</td>\n",
       "    </tr>\n",
       "    <tr>\n",
       "      <th>4</th>\n",
       "      <td>(SPP-1803-1600277)임대아파트의 에어컨 실외기 문제로 호소합니다. 저는 임</td>\n",
       "      <td>[민원 유입 경로]: 모바일\\n[사고발생지역]대구광역시 동구 각산동 1062\\n[기...</td>\n",
       "      <td>대구광역시</td>\n",
       "      <td>한국토지주택공사</td>\n",
       "    </tr>\n",
       "    <tr>\n",
       "      <th>6</th>\n",
       "      <td>[생활불편신고]불법 주차</td>\n",
       "      <td>&amp;lt;불법주정차&amp;gt; 18-03-15 오전부터 24시간 이상 도로변에 불법주차되...</td>\n",
       "      <td>경상남도</td>\n",
       "      <td>경상남도 양산시</td>\n",
       "    </tr>\n",
       "    <tr>\n",
       "      <th>7</th>\n",
       "      <td>[생활불편신고]장애인 전용주차구역 불법주차</td>\n",
       "      <td>&amp;lt;장애인 전용주차구역 불법주차&amp;gt; 장애인표시 주차불가이네요[ 상세위치설명 ...</td>\n",
       "      <td>경상남도</td>\n",
       "      <td>경상남도 창원시</td>\n",
       "    </tr>\n",
       "    <tr>\n",
       "      <th>9</th>\n",
       "      <td>특수업무수당 병급 사항</td>\n",
       "      <td>안녕하세요\\r\\n\\r\\n특수업무수당 병급관련하여 몇가지 여쭤보고 싶어 질의를 합니다...</td>\n",
       "      <td>경상남도</td>\n",
       "      <td>인사혁신처</td>\n",
       "    </tr>\n",
       "    <tr>\n",
       "      <th>10</th>\n",
       "      <td>[생활불편신고]기타생활불편</td>\n",
       "      <td>&amp;lt;기타생활불편 상점 매대 불법 인도 점유&amp;gt; 상점의 매대가 인도를 대부분 ...</td>\n",
       "      <td>경기도</td>\n",
       "      <td>경기도 성남시</td>\n",
       "    </tr>\n",
       "    <tr>\n",
       "      <th>11</th>\n",
       "      <td>(SPP-1803-1600322)신암로 76   앞 도로에  도로가 깊이 파임. 정비요</td>\n",
       "      <td>[민원 유입 경로]: 모바일\\n[사고발생지역]부산광역시 부산진구 범천동 1255-8...</td>\n",
       "      <td>부산광역시</td>\n",
       "      <td>부산광역시 부산진구</td>\n",
       "    </tr>\n",
       "    <tr>\n",
       "      <th>12</th>\n",
       "      <td>(재건축) 다채 보유 1인 조합원(토지등소유자 1인)이 1채를 매매매시 조합원 수 ...</td>\n",
       "      <td>연일 노고에 수고많으십니다.\\r\\n\\r\\n조합원 A는 1-1번지(토지+건물), 2-...</td>\n",
       "      <td>경기도</td>\n",
       "      <td>국토교통부</td>\n",
       "    </tr>\n",
       "  </tbody>\n",
       "</table>\n",
       "</div>"
      ],
      "text/plain": [
       "                                                   제목  \\\n",
       "0                               농산물(한방재) 부재료의 중량표시 방법   \n",
       "1                                    전문건설업간 하도급계약에 관련   \n",
       "2         녹색건축 예비인증 후 설계변경시 예비인증을 다시 받아야 하는 경우에 관한 질의   \n",
       "4    (SPP-1803-1600277)임대아파트의 에어컨 실외기 문제로 호소합니다. 저는 임   \n",
       "6                                       [생활불편신고]불법 주차   \n",
       "7                             [생활불편신고]장애인 전용주차구역 불법주차   \n",
       "9                                        특수업무수당 병급 사항   \n",
       "10                                     [생활불편신고]기타생활불편   \n",
       "11   (SPP-1803-1600322)신암로 76   앞 도로에  도로가 깊이 파임. 정비요   \n",
       "12  (재건축) 다채 보유 1인 조합원(토지등소유자 1인)이 1채를 매매매시 조합원 수 ...   \n",
       "\n",
       "                                                   본문  민원발생지        접수기관  \n",
       "0   안녕하십니까! 수고많으십니다.\\r\\n\\r\\n농산물(부재료)에 대한 중량표시 및 오차...   전라북도    식품의약품안전처  \n",
       "1   안녕하세요 저는 서울에서 일반토목공사를 하는 현장소장입니다.\\r\\n다름이 아니라 \\...    경기도       국토교통부  \n",
       "2   1. 녹색건축 예비인증을 받은 이후에 각각 아래 1)에서 4)와 같은 설계변경 또는...    경기도       국토교통부  \n",
       "4   [민원 유입 경로]: 모바일\\n[사고발생지역]대구광역시 동구 각산동 1062\\n[기...  대구광역시    한국토지주택공사  \n",
       "6   &lt;불법주정차&gt; 18-03-15 오전부터 24시간 이상 도로변에 불법주차되...   경상남도    경상남도 양산시  \n",
       "7   &lt;장애인 전용주차구역 불법주차&gt; 장애인표시 주차불가이네요[ 상세위치설명 ...   경상남도    경상남도 창원시  \n",
       "9   안녕하세요\\r\\n\\r\\n특수업무수당 병급관련하여 몇가지 여쭤보고 싶어 질의를 합니다...   경상남도       인사혁신처  \n",
       "10  &lt;기타생활불편 상점 매대 불법 인도 점유&gt; 상점의 매대가 인도를 대부분 ...    경기도     경기도 성남시  \n",
       "11  [민원 유입 경로]: 모바일\\n[사고발생지역]부산광역시 부산진구 범천동 1255-8...  부산광역시  부산광역시 부산진구  \n",
       "12  연일 노고에 수고많으십니다.\\r\\n\\r\\n조합원 A는 1-1번지(토지+건물), 2-...    경기도       국토교통부  "
      ]
     },
     "execution_count": 11,
     "metadata": {},
     "output_type": "execute_result"
    }
   ],
   "source": [
    "data_use[:10]"
   ]
  },
  {
   "cell_type": "code",
   "execution_count": 157,
   "metadata": {},
   "outputs": [
    {
     "data": {
      "text/html": [
       "<div>\n",
       "<style scoped>\n",
       "    .dataframe tbody tr th:only-of-type {\n",
       "        vertical-align: middle;\n",
       "    }\n",
       "\n",
       "    .dataframe tbody tr th {\n",
       "        vertical-align: top;\n",
       "    }\n",
       "\n",
       "    .dataframe thead th {\n",
       "        text-align: right;\n",
       "    }\n",
       "</style>\n",
       "<table border=\"1\" class=\"dataframe\">\n",
       "  <thead>\n",
       "    <tr style=\"text-align: right;\">\n",
       "      <th></th>\n",
       "      <th>제목</th>\n",
       "      <th>본문</th>\n",
       "      <th>민원발생지</th>\n",
       "      <th>접수기관</th>\n",
       "      <th>token</th>\n",
       "    </tr>\n",
       "  </thead>\n",
       "  <tbody>\n",
       "    <tr>\n",
       "      <th>0</th>\n",
       "      <td>농산물(한방재) 부재료의 중량표시 방법</td>\n",
       "      <td>안녕하십니까! 수고많으십니다.\\r\\n\\r\\n농산물(부재료)에 대한 중량표시 및 오차...</td>\n",
       "      <td>전라북도</td>\n",
       "      <td>식품의약품안전처</td>\n",
       "      <td>안녕하십니까! 수고많으십니다.\\r\\n\\r\\n농산물(부재료)에 대한 중량표시 및 오차...</td>\n",
       "    </tr>\n",
       "    <tr>\n",
       "      <th>1</th>\n",
       "      <td>전문건설업간 하도급계약에 관련</td>\n",
       "      <td>안녕하세요 저는 서울에서 일반토목공사를 하는 현장소장입니다.\\r\\n다름이 아니라 \\...</td>\n",
       "      <td>경기도</td>\n",
       "      <td>국토교통부</td>\n",
       "      <td>안녕하세요 저는 서울에서 일반토목공사를 하는 현장소장입니다.\\r\\n다름이 아니라 \\...</td>\n",
       "    </tr>\n",
       "    <tr>\n",
       "      <th>2</th>\n",
       "      <td>녹색건축 예비인증 후 설계변경시 예비인증을 다시 받아야 하는 경우에 관한 질의</td>\n",
       "      <td>1. 녹색건축 예비인증을 받은 이후에 각각 아래 1)에서 4)와 같은 설계변경 또는...</td>\n",
       "      <td>경기도</td>\n",
       "      <td>국토교통부</td>\n",
       "      <td>1. 녹색건축 예비인증을 받은 이후에 각각 아래 1)에서 4)와 같은 설계변경 또는...</td>\n",
       "    </tr>\n",
       "    <tr>\n",
       "      <th>3</th>\n",
       "      <td>(SPP-1803-1600277)임대아파트의 에어컨 실외기 문제로 호소합니다. 저는 임</td>\n",
       "      <td>[민원 유입 경로]: 모바일\\n[사고발생지역]대구광역시 동구 각산동 1062\\n[기...</td>\n",
       "      <td>대구광역시</td>\n",
       "      <td>한국토지주택공사</td>\n",
       "      <td>[민원 유입 경로]: 모바일\\n[사고발생지역]대구광역시 동구 각산동 1062\\n[기...</td>\n",
       "    </tr>\n",
       "    <tr>\n",
       "      <th>4</th>\n",
       "      <td>[생활불편신고]불법 주차</td>\n",
       "      <td>&amp;lt;불법주정차&amp;gt; 18-03-15 오전부터 24시간 이상 도로변에 불법주차되...</td>\n",
       "      <td>경상남도</td>\n",
       "      <td>경상남도 양산시</td>\n",
       "      <td>&amp;lt;불법주정차&amp;gt; 18-03-15 오전부터 24시간 이상 도로변에 불법주차되...</td>\n",
       "    </tr>\n",
       "    <tr>\n",
       "      <th>5</th>\n",
       "      <td>[생활불편신고]장애인 전용주차구역 불법주차</td>\n",
       "      <td>&amp;lt;장애인 전용주차구역 불법주차&amp;gt; 장애인표시 주차불가이네요[ 상세위치설명 ...</td>\n",
       "      <td>경상남도</td>\n",
       "      <td>경상남도 창원시</td>\n",
       "      <td>&amp;lt;장애인 전용주차구역 불법주차&amp;gt; 장애인표시 주차불가이네요[ 상세위치설명 ...</td>\n",
       "    </tr>\n",
       "    <tr>\n",
       "      <th>6</th>\n",
       "      <td>특수업무수당 병급 사항</td>\n",
       "      <td>안녕하세요\\r\\n\\r\\n특수업무수당 병급관련하여 몇가지 여쭤보고 싶어 질의를 합니다...</td>\n",
       "      <td>경상남도</td>\n",
       "      <td>인사혁신처</td>\n",
       "      <td>안녕하세요\\r\\n\\r\\n특수업무수당 병급관련하여 몇가지 여쭤보고 싶어 질의를 합니다...</td>\n",
       "    </tr>\n",
       "    <tr>\n",
       "      <th>7</th>\n",
       "      <td>[생활불편신고]기타생활불편</td>\n",
       "      <td>&amp;lt;기타생활불편 상점 매대 불법 인도 점유&amp;gt; 상점의 매대가 인도를 대부분 ...</td>\n",
       "      <td>경기도</td>\n",
       "      <td>경기도 성남시</td>\n",
       "      <td>&amp;lt;기타생활불편 상점 매대 불법 인도 점유&amp;gt; 상점의 매대가 인도를 대부분 ...</td>\n",
       "    </tr>\n",
       "    <tr>\n",
       "      <th>8</th>\n",
       "      <td>(SPP-1803-1600322)신암로 76   앞 도로에  도로가 깊이 파임. 정비요</td>\n",
       "      <td>[민원 유입 경로]: 모바일\\n[사고발생지역]부산광역시 부산진구 범천동 1255-8...</td>\n",
       "      <td>부산광역시</td>\n",
       "      <td>부산광역시 부산진구</td>\n",
       "      <td>[민원 유입 경로]: 모바일\\n[사고발생지역]부산광역시 부산진구 범천동 1255-8...</td>\n",
       "    </tr>\n",
       "    <tr>\n",
       "      <th>9</th>\n",
       "      <td>(재건축) 다채 보유 1인 조합원(토지등소유자 1인)이 1채를 매매매시 조합원 수 ...</td>\n",
       "      <td>연일 노고에 수고많으십니다.\\r\\n\\r\\n조합원 A는 1-1번지(토지+건물), 2-...</td>\n",
       "      <td>경기도</td>\n",
       "      <td>국토교통부</td>\n",
       "      <td>연일 노고에 수고많으십니다.\\r\\n\\r\\n조합원 A는 1-1번지(토지+건물), 2-...</td>\n",
       "    </tr>\n",
       "  </tbody>\n",
       "</table>\n",
       "</div>"
      ],
      "text/plain": [
       "                                                  제목  \\\n",
       "0                              농산물(한방재) 부재료의 중량표시 방법   \n",
       "1                                   전문건설업간 하도급계약에 관련   \n",
       "2        녹색건축 예비인증 후 설계변경시 예비인증을 다시 받아야 하는 경우에 관한 질의   \n",
       "3   (SPP-1803-1600277)임대아파트의 에어컨 실외기 문제로 호소합니다. 저는 임   \n",
       "4                                      [생활불편신고]불법 주차   \n",
       "5                            [생활불편신고]장애인 전용주차구역 불법주차   \n",
       "6                                       특수업무수당 병급 사항   \n",
       "7                                     [생활불편신고]기타생활불편   \n",
       "8   (SPP-1803-1600322)신암로 76   앞 도로에  도로가 깊이 파임. 정비요   \n",
       "9  (재건축) 다채 보유 1인 조합원(토지등소유자 1인)이 1채를 매매매시 조합원 수 ...   \n",
       "\n",
       "                                                  본문  민원발생지        접수기관  \\\n",
       "0  안녕하십니까! 수고많으십니다.\\r\\n\\r\\n농산물(부재료)에 대한 중량표시 및 오차...   전라북도    식품의약품안전처   \n",
       "1  안녕하세요 저는 서울에서 일반토목공사를 하는 현장소장입니다.\\r\\n다름이 아니라 \\...    경기도       국토교통부   \n",
       "2  1. 녹색건축 예비인증을 받은 이후에 각각 아래 1)에서 4)와 같은 설계변경 또는...    경기도       국토교통부   \n",
       "3  [민원 유입 경로]: 모바일\\n[사고발생지역]대구광역시 동구 각산동 1062\\n[기...  대구광역시    한국토지주택공사   \n",
       "4  &lt;불법주정차&gt; 18-03-15 오전부터 24시간 이상 도로변에 불법주차되...   경상남도    경상남도 양산시   \n",
       "5  &lt;장애인 전용주차구역 불법주차&gt; 장애인표시 주차불가이네요[ 상세위치설명 ...   경상남도    경상남도 창원시   \n",
       "6  안녕하세요\\r\\n\\r\\n특수업무수당 병급관련하여 몇가지 여쭤보고 싶어 질의를 합니다...   경상남도       인사혁신처   \n",
       "7  &lt;기타생활불편 상점 매대 불법 인도 점유&gt; 상점의 매대가 인도를 대부분 ...    경기도     경기도 성남시   \n",
       "8  [민원 유입 경로]: 모바일\\n[사고발생지역]부산광역시 부산진구 범천동 1255-8...  부산광역시  부산광역시 부산진구   \n",
       "9  연일 노고에 수고많으십니다.\\r\\n\\r\\n조합원 A는 1-1번지(토지+건물), 2-...    경기도       국토교통부   \n",
       "\n",
       "                                               token  \n",
       "0  안녕하십니까! 수고많으십니다.\\r\\n\\r\\n농산물(부재료)에 대한 중량표시 및 오차...  \n",
       "1  안녕하세요 저는 서울에서 일반토목공사를 하는 현장소장입니다.\\r\\n다름이 아니라 \\...  \n",
       "2  1. 녹색건축 예비인증을 받은 이후에 각각 아래 1)에서 4)와 같은 설계변경 또는...  \n",
       "3  [민원 유입 경로]: 모바일\\n[사고발생지역]대구광역시 동구 각산동 1062\\n[기...  \n",
       "4  &lt;불법주정차&gt; 18-03-15 오전부터 24시간 이상 도로변에 불법주차되...  \n",
       "5  &lt;장애인 전용주차구역 불법주차&gt; 장애인표시 주차불가이네요[ 상세위치설명 ...  \n",
       "6  안녕하세요\\r\\n\\r\\n특수업무수당 병급관련하여 몇가지 여쭤보고 싶어 질의를 합니다...  \n",
       "7  &lt;기타생활불편 상점 매대 불법 인도 점유&gt; 상점의 매대가 인도를 대부분 ...  \n",
       "8  [민원 유입 경로]: 모바일\\n[사고발생지역]부산광역시 부산진구 범천동 1255-8...  \n",
       "9  연일 노고에 수고많으십니다.\\r\\n\\r\\n조합원 A는 1-1번지(토지+건물), 2-...  "
      ]
     },
     "execution_count": 157,
     "metadata": {},
     "output_type": "execute_result"
    }
   ],
   "source": [
    "# temp = data_use[:10]\n",
    "# temp.reset_index(inplace = True, drop = True)\n",
    "# temp"
   ]
  },
  {
   "cell_type": "code",
   "execution_count": 15,
   "metadata": {},
   "outputs": [],
   "source": [
    "data_use = data_use.iloc[950000:1050000, :]"
   ]
  },
  {
   "cell_type": "code",
   "execution_count": 16,
   "metadata": {},
   "outputs": [],
   "source": [
    "data_use.reset_index(inplace = True, drop = True)"
   ]
  },
  {
   "cell_type": "markdown",
   "metadata": {},
   "source": [
    "### Pre-processing"
   ]
  },
  {
   "cell_type": "code",
   "execution_count": 17,
   "metadata": {},
   "outputs": [],
   "source": [
    "data_use['본문'] = data_use['본문'].str.strip()\n",
    "data_use['본문'] = data_use['본문'].str.replace(\"\\r\\n\", '')"
   ]
  },
  {
   "cell_type": "markdown",
   "metadata": {},
   "source": [
    "### Tokenizer"
   ]
  },
  {
   "cell_type": "code",
   "execution_count": 19,
   "metadata": {},
   "outputs": [
    {
     "data": {
      "text/plain": [
       "['확인', '토크', '나이저', '사용']"
      ]
     },
     "execution_count": 19,
     "metadata": {},
     "output_type": "execute_result"
    }
   ],
   "source": [
    "from konlpy.tag import Mecab\n",
    "mecab = Mecab()\n",
    "\n",
    "mecab.nouns(\"tokenize가 잘 되었는지 확인해봅니다. 토크나이저는 mecab을 사용하겠습니다. mecab다운받기 정말 어렵군요\")"
   ]
  },
  {
   "cell_type": "code",
   "execution_count": 20,
   "metadata": {},
   "outputs": [
    {
     "name": "stderr",
     "output_type": "stream",
     "text": [
      "100%|██████████| 100000/100000 [03:19<00:00, 501.16it/s]\n"
     ]
    }
   ],
   "source": [
    "import copy\n",
    "from tqdm import tqdm\n",
    "data_use['token'] = copy.deepcopy(data_use['본문'])\n",
    "for idx, text in enumerate(tqdm(data_use['token'])):\n",
    "    text = str(text)\n",
    "    if len(text) > 3000:\n",
    "        tok = \"TOO LONG\"\n",
    "    else:\n",
    "        tok = mecab.nouns(text)\n",
    "        if len(tok) < 512:\n",
    "            data_use['token'][idx] = tok\n",
    "        else:\n",
    "            data_use['token'][idx] = \"TOO LONG\""
   ]
  },
  {
   "cell_type": "code",
   "execution_count": 22,
   "metadata": {},
   "outputs": [
    {
     "data": {
      "text/html": [
       "<div>\n",
       "<style scoped>\n",
       "    .dataframe tbody tr th:only-of-type {\n",
       "        vertical-align: middle;\n",
       "    }\n",
       "\n",
       "    .dataframe tbody tr th {\n",
       "        vertical-align: top;\n",
       "    }\n",
       "\n",
       "    .dataframe thead th {\n",
       "        text-align: right;\n",
       "    }\n",
       "</style>\n",
       "<table border=\"1\" class=\"dataframe\">\n",
       "  <thead>\n",
       "    <tr style=\"text-align: right;\">\n",
       "      <th></th>\n",
       "      <th>제목</th>\n",
       "      <th>본문</th>\n",
       "      <th>민원발생지</th>\n",
       "      <th>접수기관</th>\n",
       "      <th>token</th>\n",
       "    </tr>\n",
       "  </thead>\n",
       "  <tbody>\n",
       "    <tr>\n",
       "      <th>99995</th>\n",
       "      <td>(SPP-2102-1207557)장애인 전용구역 불법주차 불법 주정차 신고입니다.\\...</td>\n",
       "      <td>[민원 유입 경로]: 모바일\\n[사고발생지역]서울특별시 구로구 구로동 435\\n장애...</td>\n",
       "      <td>경기도</td>\n",
       "      <td>서울특별시 구로구</td>\n",
       "      <td>[민원, 유입, 경로, 모바일, 사고, 발생, 지역, 서울특별시, 구로구, 구로동,...</td>\n",
       "    </tr>\n",
       "    <tr>\n",
       "      <th>99996</th>\n",
       "      <td>(SPP-2102-1207519)교차로 모퉁이 불법 주정차 신고입니다.\\n\\n* 안...</td>\n",
       "      <td>[민원 유입 경로]: 모바일\\n[사고발생지역]경상남도 양산시 중부동 698-9\\n교...</td>\n",
       "      <td>경상남도</td>\n",
       "      <td>경상남도 양산시</td>\n",
       "      <td>[민원, 유입, 경로, 모바일, 사고, 발생, 지역, 경상남도, 양산시, 중부동, ...</td>\n",
       "    </tr>\n",
       "    <tr>\n",
       "      <th>99997</th>\n",
       "      <td>A104블럭 신희타에 대한 민원</td>\n",
       "      <td>A104블럭 주 입구가 하나이던데추가로 하나 더 만들수는 없나요A105블럭도 지어지...</td>\n",
       "      <td>충청남도</td>\n",
       "      <td>한국토지주택공사</td>\n",
       "      <td>[블럭, 주, 입구, 하나, 추가, 하나, 수, 블럭, 교통, 혼잡, 야기, 것, 문]</td>\n",
       "    </tr>\n",
       "    <tr>\n",
       "      <th>99998</th>\n",
       "      <td>(SPP-2102-1207515)동탄쿠팡 물류센터에서 2월9일 심야조 18시~익일04시</td>\n",
       "      <td>[민원 유입 경로]: 모바일\\n[사고발생지역]경기도 화성시 신동 703\\n동탄쿠팡 ...</td>\n",
       "      <td>경기도</td>\n",
       "      <td>경기도 화성시</td>\n",
       "      <td>[민원, 유입, 경로, 모바일, 사고, 발생, 지역, 경기도, 화성시, 신동, 동탄...</td>\n",
       "    </tr>\n",
       "    <tr>\n",
       "      <th>99999</th>\n",
       "      <td>(SPP-2102-1207512)교차로 모퉁이 불법 주정차 신고입니다.\\n\\n* 안...</td>\n",
       "      <td>[민원 유입 경로]: 모바일\\n[사고발생지역]경상남도 양산시 중부동 698-9\\n교...</td>\n",
       "      <td>경상남도</td>\n",
       "      <td>경상남도 양산시</td>\n",
       "      <td>[민원, 유입, 경로, 모바일, 사고, 발생, 지역, 경상남도, 양산시, 중부동, ...</td>\n",
       "    </tr>\n",
       "  </tbody>\n",
       "</table>\n",
       "</div>"
      ],
      "text/plain": [
       "                                                      제목  \\\n",
       "99995  (SPP-2102-1207557)장애인 전용구역 불법주차 불법 주정차 신고입니다.\\...   \n",
       "99996  (SPP-2102-1207519)교차로 모퉁이 불법 주정차 신고입니다.\\n\\n* 안...   \n",
       "99997                                  A104블럭 신희타에 대한 민원   \n",
       "99998   (SPP-2102-1207515)동탄쿠팡 물류센터에서 2월9일 심야조 18시~익일04시   \n",
       "99999  (SPP-2102-1207512)교차로 모퉁이 불법 주정차 신고입니다.\\n\\n* 안...   \n",
       "\n",
       "                                                      본문 민원발생지       접수기관  \\\n",
       "99995  [민원 유입 경로]: 모바일\\n[사고발생지역]서울특별시 구로구 구로동 435\\n장애...   경기도  서울특별시 구로구   \n",
       "99996  [민원 유입 경로]: 모바일\\n[사고발생지역]경상남도 양산시 중부동 698-9\\n교...  경상남도   경상남도 양산시   \n",
       "99997  A104블럭 주 입구가 하나이던데추가로 하나 더 만들수는 없나요A105블럭도 지어지...  충청남도   한국토지주택공사   \n",
       "99998  [민원 유입 경로]: 모바일\\n[사고발생지역]경기도 화성시 신동 703\\n동탄쿠팡 ...   경기도    경기도 화성시   \n",
       "99999  [민원 유입 경로]: 모바일\\n[사고발생지역]경상남도 양산시 중부동 698-9\\n교...  경상남도   경상남도 양산시   \n",
       "\n",
       "                                                   token  \n",
       "99995  [민원, 유입, 경로, 모바일, 사고, 발생, 지역, 서울특별시, 구로구, 구로동,...  \n",
       "99996  [민원, 유입, 경로, 모바일, 사고, 발생, 지역, 경상남도, 양산시, 중부동, ...  \n",
       "99997   [블럭, 주, 입구, 하나, 추가, 하나, 수, 블럭, 교통, 혼잡, 야기, 것, 문]  \n",
       "99998  [민원, 유입, 경로, 모바일, 사고, 발생, 지역, 경기도, 화성시, 신동, 동탄...  \n",
       "99999  [민원, 유입, 경로, 모바일, 사고, 발생, 지역, 경상남도, 양산시, 중부동, ...  "
      ]
     },
     "execution_count": 22,
     "metadata": {},
     "output_type": "execute_result"
    }
   ],
   "source": [
    "data_use.tail()"
   ]
  },
  {
   "cell_type": "code",
   "execution_count": 23,
   "metadata": {},
   "outputs": [],
   "source": [
    "data_use.to_pickle(\"../result/tokenized_test_data.pkl\")"
   ]
  }
 ],
 "metadata": {
  "kernelspec": {
   "display_name": "Python 3.8.12 ('save')",
   "language": "python",
   "name": "python3"
  },
  "language_info": {
   "codemirror_mode": {
    "name": "ipython",
    "version": 3
   },
   "file_extension": ".py",
   "mimetype": "text/x-python",
   "name": "python",
   "nbconvert_exporter": "python",
   "pygments_lexer": "ipython3",
   "version": "3.8.12"
  },
  "orig_nbformat": 4,
  "vscode": {
   "interpreter": {
    "hash": "6632c70ce360d611e847e5318887868e2366d56c00e5f501b5a0b067a934dfe7"
   }
  }
 },
 "nbformat": 4,
 "nbformat_minor": 2
}
