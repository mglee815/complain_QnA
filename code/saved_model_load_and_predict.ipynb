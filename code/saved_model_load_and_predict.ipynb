{
 "cells": [
  {
   "cell_type": "code",
   "execution_count": 1,
   "metadata": {},
   "outputs": [
    {
     "name": "stderr",
     "output_type": "stream",
     "text": [
      "2022-06-28 18:40:09.713521: I tensorflow/stream_executor/platform/default/dso_loader.cc:49] Successfully opened dynamic library libcudart.so.11.0\n"
     ]
    },
    {
     "name": "stdout",
     "output_type": "stream",
     "text": [
      "Using cuda:0\n"
     ]
    }
   ],
   "source": [
    "import pandas as pd\n",
    "import mxnet\n",
    "import gluonnlp as nlp\n",
    "import numpy as np\n",
    "from tqdm.notebook import tqdm\n",
    "\n",
    "import torch\n",
    "from torch import nn\n",
    "import torch.nn.functional as F\n",
    "import torch.optim as optim\n",
    "from torch.utils.data import Dataset, DataLoader\n",
    "\n",
    "from kobert.utils import get_tokenizer\n",
    "from kobert.pytorch_kobert import get_pytorch_kobert_model\n",
    "\n",
    "from transformers import AdamW\n",
    "from transformers.optimization import get_cosine_schedule_with_warmup\n",
    "\n",
    "from sklearn.model_selection import train_test_split\n",
    "\n",
    "\n",
    "device = torch.device(\"cuda:0\")\n",
    "print(f\"Using {device}\")"
   ]
  },
  {
   "cell_type": "code",
   "execution_count": 2,
   "metadata": {},
   "outputs": [],
   "source": [
    "data = pd.read_pickle(\"../result/tokenized_test_data.pkl\")"
   ]
  },
  {
   "cell_type": "code",
   "execution_count": 3,
   "metadata": {},
   "outputs": [
    {
     "name": "stdout",
     "output_type": "stream",
     "text": [
      "<class 'pandas.core.frame.DataFrame'>\n",
      "RangeIndex: 50000 entries, 0 to 49999\n",
      "Data columns (total 4 columns):\n",
      " #   Column  Non-Null Count  Dtype \n",
      "---  ------  --------------  ----- \n",
      " 0   제목      50000 non-null  object\n",
      " 1   본문      49995 non-null  object\n",
      " 2   민원발생지   49992 non-null  object\n",
      " 3   접수기관    50000 non-null  object\n",
      "dtypes: object(4)\n",
      "memory usage: 1.5+ MB\n"
     ]
    }
   ],
   "source": [
    "pred_data = data.iloc[950000:1050000, :]\n",
    "#앞쪽 5만은 학습사용 뒤쪽 5만은 학습 사용하지 않음\n",
    "pred_A = pred_data[:50000]\n",
    "pred_B = pred_data[50000:]\n",
    "\n",
    "#어떤것으로 테스트할까요?\n",
    "pred_data = pred_A[['제목', '본문', '민원발생지', '접수기관']]\n",
    "#pred_data = pred_B[['제목', '본문', '민원발생지', '접수기관']]\n",
    "pred_data.reset_index(inplace = True, drop = True)\n",
    "pred_data.info()"
   ]
  },
  {
   "cell_type": "code",
   "execution_count": 4,
   "metadata": {},
   "outputs": [
    {
     "name": "stderr",
     "output_type": "stream",
     "text": [
      "/tmp/ipykernel_23495/2637551822.py:1: SettingWithCopyWarning: \n",
      "A value is trying to be set on a copy of a slice from a DataFrame.\n",
      "Try using .loc[row_indexer,col_indexer] = value instead\n",
      "\n",
      "See the caveats in the documentation: https://pandas.pydata.org/pandas-docs/stable/user_guide/indexing.html#returning-a-view-versus-a-copy\n",
      "  pred_data['본문'] = pred_data['본문'].str.strip()\n",
      "/tmp/ipykernel_23495/2637551822.py:2: SettingWithCopyWarning: \n",
      "A value is trying to be set on a copy of a slice from a DataFrame.\n",
      "Try using .loc[row_indexer,col_indexer] = value instead\n",
      "\n",
      "See the caveats in the documentation: https://pandas.pydata.org/pandas-docs/stable/user_guide/indexing.html#returning-a-view-versus-a-copy\n",
      "  pred_data['본문'] = pred_data['본문'].str.replace(\"\\r\\n\", '')\n"
     ]
    },
    {
     "data": {
      "text/html": [
       "<div>\n",
       "<style scoped>\n",
       "    .dataframe tbody tr th:only-of-type {\n",
       "        vertical-align: middle;\n",
       "    }\n",
       "\n",
       "    .dataframe tbody tr th {\n",
       "        vertical-align: top;\n",
       "    }\n",
       "\n",
       "    .dataframe thead th {\n",
       "        text-align: right;\n",
       "    }\n",
       "</style>\n",
       "<table border=\"1\" class=\"dataframe\">\n",
       "  <thead>\n",
       "    <tr style=\"text-align: right;\">\n",
       "      <th></th>\n",
       "      <th>제목</th>\n",
       "      <th>본문</th>\n",
       "      <th>민원발생지</th>\n",
       "      <th>접수기관</th>\n",
       "    </tr>\n",
       "  </thead>\n",
       "  <tbody>\n",
       "    <tr>\n",
       "      <th>0</th>\n",
       "      <td>정부는 방관자 입니까? 즉시 위례 사업시행자 LH 감독하여 책임이행토록 요구하여 주...</td>\n",
       "      <td>정부는 방관자 입니까? 즉시 위례 사업시행자 LH 감독하여 책임이행토록 요구하여 주...</td>\n",
       "      <td>경기도</td>\n",
       "      <td>국토교통부</td>\n",
       "    </tr>\n",
       "    <tr>\n",
       "      <th>1</th>\n",
       "      <td>2AA-2007-0240879에 관하여 포상금 지급이 가능한지 문의</td>\n",
       "      <td>2AA-2007-0240879에 관하여 다른 조건이 다 충족되었을 경우포상금 지급이...</td>\n",
       "      <td>서울특별시</td>\n",
       "      <td>국세청</td>\n",
       "    </tr>\n",
       "    <tr>\n",
       "      <th>2</th>\n",
       "      <td>목감1중 설립.</td>\n",
       "      <td>목감1중 설립은 우리 목감 주민들에게는 매우 중대한 문제입니다.학구통합 반대 의견을...</td>\n",
       "      <td>경기도</td>\n",
       "      <td>경기도교육청</td>\n",
       "    </tr>\n",
       "    <tr>\n",
       "      <th>3</th>\n",
       "      <td>목감1중 설립.</td>\n",
       "      <td>목감1중 설립은 우리 목감 주민들에게는 매우 중대한 문제입니다.학구통합 반대 의견을...</td>\n",
       "      <td>경기도</td>\n",
       "      <td>경기도교육청</td>\n",
       "    </tr>\n",
       "    <tr>\n",
       "      <th>4</th>\n",
       "      <td>병역의무자 겸직금지 규정의 역사 조사</td>\n",
       "      <td>병역의무자의 겸직금지 규정은 못해도 케케 묶은 옛날 시대에 만들어져서 지금까지 전해...</td>\n",
       "      <td>경상남도</td>\n",
       "      <td>국방부</td>\n",
       "    </tr>\n",
       "  </tbody>\n",
       "</table>\n",
       "</div>"
      ],
      "text/plain": [
       "                                                  제목  \\\n",
       "0  정부는 방관자 입니까? 즉시 위례 사업시행자 LH 감독하여 책임이행토록 요구하여 주...   \n",
       "1              2AA-2007-0240879에 관하여 포상금 지급이 가능한지 문의   \n",
       "2                                           목감1중 설립.   \n",
       "3                                           목감1중 설립.   \n",
       "4                               병역의무자 겸직금지 규정의 역사 조사   \n",
       "\n",
       "                                                  본문  민원발생지    접수기관  \n",
       "0  정부는 방관자 입니까? 즉시 위례 사업시행자 LH 감독하여 책임이행토록 요구하여 주...    경기도   국토교통부  \n",
       "1  2AA-2007-0240879에 관하여 다른 조건이 다 충족되었을 경우포상금 지급이...  서울특별시     국세청  \n",
       "2  목감1중 설립은 우리 목감 주민들에게는 매우 중대한 문제입니다.학구통합 반대 의견을...    경기도  경기도교육청  \n",
       "3  목감1중 설립은 우리 목감 주민들에게는 매우 중대한 문제입니다.학구통합 반대 의견을...    경기도  경기도교육청  \n",
       "4  병역의무자의 겸직금지 규정은 못해도 케케 묶은 옛날 시대에 만들어져서 지금까지 전해...   경상남도     국방부  "
      ]
     },
     "execution_count": 4,
     "metadata": {},
     "output_type": "execute_result"
    }
   ],
   "source": [
    "pred_data['본문'] = pred_data['본문'].str.strip()\n",
    "pred_data['본문'] = pred_data['본문'].str.replace(\"\\r\\n\", '')\n",
    "pred_data.head(5)"
   ]
  },
  {
   "cell_type": "code",
   "execution_count": 5,
   "metadata": {},
   "outputs": [
    {
     "data": {
      "text/plain": [
       "['토크', '나이', '저', '확인']"
      ]
     },
     "execution_count": 5,
     "metadata": {},
     "output_type": "execute_result"
    }
   ],
   "source": [
    "from konlpy.tag import Okt\n",
    "okt = Okt()\n",
    "\n",
    "okt.nouns(\"토크나이저 import가 잘 되었는지 확인합니다\")"
   ]
  },
  {
   "cell_type": "code",
   "execution_count": 6,
   "metadata": {},
   "outputs": [
    {
     "data": {
      "text/plain": [
       "'정부는 방관자 입니까? 즉시 위례 사업시행자 LH 감독하여 책임이행토록 요구하여 주십시오.(국토교통부)  안녕하십니까? 위례신도시 광역교통개선대책이 나온지 어언 12년이 지났습니다. 그러나 현재까지도 제일 중'"
      ]
     },
     "execution_count": 6,
     "metadata": {},
     "output_type": "execute_result"
    }
   ],
   "source": [
    "pred_data.iloc[0,0]"
   ]
  },
  {
   "cell_type": "code",
   "execution_count": 7,
   "metadata": {},
   "outputs": [],
   "source": [
    "if pred_B.iloc[0,0] == pred_data.iloc[0,0]:####\n",
    "    import copy\n",
    "    from tqdm import tqdm\n",
    "    pred_data['token'] = copy.deepcopy(pred_data['본문'])\n",
    "    for idx, text in enumerate(tqdm(pred_data['token'])):\n",
    "        text = str(text)\n",
    "        if len(text) > 3000:\n",
    "            tok = \"TOO LONG\"\n",
    "        else:\n",
    "            tok = okt.nouns(text)\n",
    "            if len(tok) < 512:\n",
    "                pred_data['token'][idx] = tok\n",
    "            else:\n",
    "                pred_data['token'][idx] = \"TOO LONG\""
   ]
  },
  {
   "cell_type": "code",
   "execution_count": 8,
   "metadata": {},
   "outputs": [],
   "source": [
    "label_data = data[:1000000]\n",
    "\n",
    "label_to_int = {}\n",
    "for i, item in enumerate(label_data['접수기관'].unique()):\n",
    "    label_to_int[item] = i"
   ]
  },
  {
   "cell_type": "code",
   "execution_count": 17,
   "metadata": {},
   "outputs": [],
   "source": [
    "idx_list = []\n",
    "for idx, item in enumerate(pred_data['접수기관']):\n",
    "    if item in label_to_int.keys():\n",
    "        idx_list.append(idx)"
   ]
  },
  {
   "cell_type": "code",
   "execution_count": 18,
   "metadata": {},
   "outputs": [
    {
     "name": "stdout",
     "output_type": "stream",
     "text": [
      "50000 50000\n"
     ]
    }
   ],
   "source": [
    "print(len(pred_data) , len(idx_list))"
   ]
  },
  {
   "cell_type": "code",
   "execution_count": 19,
   "metadata": {},
   "outputs": [],
   "source": [
    "pred_data = pred_data.iloc[idx_list, :]"
   ]
  },
  {
   "cell_type": "code",
   "execution_count": 20,
   "metadata": {},
   "outputs": [
    {
     "name": "stdout",
     "output_type": "stream",
     "text": [
      "<class 'pandas.core.frame.DataFrame'>\n",
      "Int64Index: 50000 entries, 0 to 49999\n",
      "Data columns (total 4 columns):\n",
      " #   Column  Non-Null Count  Dtype \n",
      "---  ------  --------------  ----- \n",
      " 0   제목      50000 non-null  object\n",
      " 1   본문      49995 non-null  object\n",
      " 2   민원발생지   49992 non-null  object\n",
      " 3   접수기관    50000 non-null  object\n",
      "dtypes: object(4)\n",
      "memory usage: 1.9+ MB\n"
     ]
    }
   ],
   "source": [
    "pred_data.info()"
   ]
  },
  {
   "cell_type": "code",
   "execution_count": 21,
   "metadata": {},
   "outputs": [],
   "source": [
    "def department_to_int(x):\n",
    "    try:\n",
    "        return label_to_int[x]\n",
    "    except:\n",
    "        print('error')"
   ]
  },
  {
   "cell_type": "code",
   "execution_count": 22,
   "metadata": {},
   "outputs": [
    {
     "data": {
      "text/html": [
       "<div>\n",
       "<style scoped>\n",
       "    .dataframe tbody tr th:only-of-type {\n",
       "        vertical-align: middle;\n",
       "    }\n",
       "\n",
       "    .dataframe tbody tr th {\n",
       "        vertical-align: top;\n",
       "    }\n",
       "\n",
       "    .dataframe thead th {\n",
       "        text-align: right;\n",
       "    }\n",
       "</style>\n",
       "<table border=\"1\" class=\"dataframe\">\n",
       "  <thead>\n",
       "    <tr style=\"text-align: right;\">\n",
       "      <th></th>\n",
       "      <th>제목</th>\n",
       "      <th>본문</th>\n",
       "      <th>민원발생지</th>\n",
       "      <th>접수기관</th>\n",
       "    </tr>\n",
       "  </thead>\n",
       "  <tbody>\n",
       "    <tr>\n",
       "      <th>0</th>\n",
       "      <td>정부는 방관자 입니까? 즉시 위례 사업시행자 LH 감독하여 책임이행토록 요구하여 주...</td>\n",
       "      <td>정부는 방관자 입니까? 즉시 위례 사업시행자 LH 감독하여 책임이행토록 요구하여 주...</td>\n",
       "      <td>경기도</td>\n",
       "      <td>국토교통부</td>\n",
       "    </tr>\n",
       "    <tr>\n",
       "      <th>1</th>\n",
       "      <td>2AA-2007-0240879에 관하여 포상금 지급이 가능한지 문의</td>\n",
       "      <td>2AA-2007-0240879에 관하여 다른 조건이 다 충족되었을 경우포상금 지급이...</td>\n",
       "      <td>서울특별시</td>\n",
       "      <td>국세청</td>\n",
       "    </tr>\n",
       "    <tr>\n",
       "      <th>2</th>\n",
       "      <td>목감1중 설립.</td>\n",
       "      <td>목감1중 설립은 우리 목감 주민들에게는 매우 중대한 문제입니다.학구통합 반대 의견을...</td>\n",
       "      <td>경기도</td>\n",
       "      <td>경기도교육청</td>\n",
       "    </tr>\n",
       "  </tbody>\n",
       "</table>\n",
       "</div>"
      ],
      "text/plain": [
       "                                                  제목  \\\n",
       "0  정부는 방관자 입니까? 즉시 위례 사업시행자 LH 감독하여 책임이행토록 요구하여 주...   \n",
       "1              2AA-2007-0240879에 관하여 포상금 지급이 가능한지 문의   \n",
       "2                                           목감1중 설립.   \n",
       "\n",
       "                                                  본문  민원발생지    접수기관  \n",
       "0  정부는 방관자 입니까? 즉시 위례 사업시행자 LH 감독하여 책임이행토록 요구하여 주...    경기도   국토교통부  \n",
       "1  2AA-2007-0240879에 관하여 다른 조건이 다 충족되었을 경우포상금 지급이...  서울특별시     국세청  \n",
       "2  목감1중 설립은 우리 목감 주민들에게는 매우 중대한 문제입니다.학구통합 반대 의견을...    경기도  경기도교육청  "
      ]
     },
     "execution_count": 22,
     "metadata": {},
     "output_type": "execute_result"
    }
   ],
   "source": [
    "pred_data.head(3)"
   ]
  },
  {
   "cell_type": "code",
   "execution_count": 24,
   "metadata": {},
   "outputs": [
    {
     "data": {
      "text/html": [
       "<div>\n",
       "<style scoped>\n",
       "    .dataframe tbody tr th:only-of-type {\n",
       "        vertical-align: middle;\n",
       "    }\n",
       "\n",
       "    .dataframe tbody tr th {\n",
       "        vertical-align: top;\n",
       "    }\n",
       "\n",
       "    .dataframe thead th {\n",
       "        text-align: right;\n",
       "    }\n",
       "</style>\n",
       "<table border=\"1\" class=\"dataframe\">\n",
       "  <thead>\n",
       "    <tr style=\"text-align: right;\">\n",
       "      <th></th>\n",
       "      <th>제목</th>\n",
       "      <th>본문</th>\n",
       "      <th>민원발생지</th>\n",
       "      <th>접수기관</th>\n",
       "    </tr>\n",
       "  </thead>\n",
       "  <tbody>\n",
       "    <tr>\n",
       "      <th>0</th>\n",
       "      <td>정부는 방관자 입니까? 즉시 위례 사업시행자 LH 감독하여 책임이행토록 요구하여 주...</td>\n",
       "      <td>정부는 방관자 입니까? 즉시 위례 사업시행자 LH 감독하여 책임이행토록 요구하여 주...</td>\n",
       "      <td>경기도</td>\n",
       "      <td>1</td>\n",
       "    </tr>\n",
       "    <tr>\n",
       "      <th>1</th>\n",
       "      <td>2AA-2007-0240879에 관하여 포상금 지급이 가능한지 문의</td>\n",
       "      <td>2AA-2007-0240879에 관하여 다른 조건이 다 충족되었을 경우포상금 지급이...</td>\n",
       "      <td>서울특별시</td>\n",
       "      <td>41</td>\n",
       "    </tr>\n",
       "    <tr>\n",
       "      <th>2</th>\n",
       "      <td>목감1중 설립.</td>\n",
       "      <td>목감1중 설립은 우리 목감 주민들에게는 매우 중대한 문제입니다.학구통합 반대 의견을...</td>\n",
       "      <td>경기도</td>\n",
       "      <td>59</td>\n",
       "    </tr>\n",
       "    <tr>\n",
       "      <th>3</th>\n",
       "      <td>목감1중 설립.</td>\n",
       "      <td>목감1중 설립은 우리 목감 주민들에게는 매우 중대한 문제입니다.학구통합 반대 의견을...</td>\n",
       "      <td>경기도</td>\n",
       "      <td>59</td>\n",
       "    </tr>\n",
       "    <tr>\n",
       "      <th>4</th>\n",
       "      <td>병역의무자 겸직금지 규정의 역사 조사</td>\n",
       "      <td>병역의무자의 겸직금지 규정은 못해도 케케 묶은 옛날 시대에 만들어져서 지금까지 전해...</td>\n",
       "      <td>경상남도</td>\n",
       "      <td>27</td>\n",
       "    </tr>\n",
       "    <tr>\n",
       "      <th>...</th>\n",
       "      <td>...</td>\n",
       "      <td>...</td>\n",
       "      <td>...</td>\n",
       "      <td>...</td>\n",
       "    </tr>\n",
       "    <tr>\n",
       "      <th>49995</th>\n",
       "      <td>[생활불편신고]장애인 전용구역 불법주차</td>\n",
       "      <td>&amp;lt;장애인 전용구역 불법주차&amp;gt;\\n경상북도 경산시 정평동 130 부근\\n\\n...</td>\n",
       "      <td>경상북도</td>\n",
       "      <td>28</td>\n",
       "    </tr>\n",
       "    <tr>\n",
       "      <th>49996</th>\n",
       "      <td>(SPP-2003-3102022)횡단보도 불법 주정차 신고입니다.\\n\\n* 안전신문...</td>\n",
       "      <td>[민원 유입 경로]: 모바일\\n[사고발생지역]울산광역시 중구 남외동 455-1\\n횡...</td>\n",
       "      <td>울산광역시</td>\n",
       "      <td>263</td>\n",
       "    </tr>\n",
       "    <tr>\n",
       "      <th>49997</th>\n",
       "      <td>[생활불편신고]불법주차</td>\n",
       "      <td>&amp;lt;불법주차&amp;gt; 인도 불법주차\\n경상남도 양산시 물금읍 물금리 392-6 부...</td>\n",
       "      <td>경상남도</td>\n",
       "      <td>5</td>\n",
       "    </tr>\n",
       "    <tr>\n",
       "      <th>49998</th>\n",
       "      <td>[생활불편신고]불법주차</td>\n",
       "      <td>&amp;lt;불법주차&amp;gt; 불법주차\\n경기도 화성시 영천동 511-42 부근\\n\\n[☆...</td>\n",
       "      <td>경기도</td>\n",
       "      <td>36</td>\n",
       "    </tr>\n",
       "    <tr>\n",
       "      <th>49999</th>\n",
       "      <td>(SPP-2003-3100762)거주자우선 주차구역및 그 주변 일대 일방통행 도로에 발</td>\n",
       "      <td>[민원 유입 경로]: 모바일\\n[사고발생지역]서울특별시 강남구 신사동 668-29\\...</td>\n",
       "      <td>경기도</td>\n",
       "      <td>47</td>\n",
       "    </tr>\n",
       "  </tbody>\n",
       "</table>\n",
       "<p>50000 rows × 4 columns</p>\n",
       "</div>"
      ],
      "text/plain": [
       "                                                      제목  \\\n",
       "0      정부는 방관자 입니까? 즉시 위례 사업시행자 LH 감독하여 책임이행토록 요구하여 주...   \n",
       "1                  2AA-2007-0240879에 관하여 포상금 지급이 가능한지 문의   \n",
       "2                                               목감1중 설립.   \n",
       "3                                               목감1중 설립.   \n",
       "4                                   병역의무자 겸직금지 규정의 역사 조사   \n",
       "...                                                  ...   \n",
       "49995                              [생활불편신고]장애인 전용구역 불법주차   \n",
       "49996  (SPP-2003-3102022)횡단보도 불법 주정차 신고입니다.\\n\\n* 안전신문...   \n",
       "49997                                       [생활불편신고]불법주차   \n",
       "49998                                       [생활불편신고]불법주차   \n",
       "49999   (SPP-2003-3100762)거주자우선 주차구역및 그 주변 일대 일방통행 도로에 발   \n",
       "\n",
       "                                                      본문  민원발생지  접수기관  \n",
       "0      정부는 방관자 입니까? 즉시 위례 사업시행자 LH 감독하여 책임이행토록 요구하여 주...    경기도     1  \n",
       "1      2AA-2007-0240879에 관하여 다른 조건이 다 충족되었을 경우포상금 지급이...  서울특별시    41  \n",
       "2      목감1중 설립은 우리 목감 주민들에게는 매우 중대한 문제입니다.학구통합 반대 의견을...    경기도    59  \n",
       "3      목감1중 설립은 우리 목감 주민들에게는 매우 중대한 문제입니다.학구통합 반대 의견을...    경기도    59  \n",
       "4      병역의무자의 겸직금지 규정은 못해도 케케 묶은 옛날 시대에 만들어져서 지금까지 전해...   경상남도    27  \n",
       "...                                                  ...    ...   ...  \n",
       "49995  &lt;장애인 전용구역 불법주차&gt;\\n경상북도 경산시 정평동 130 부근\\n\\n...   경상북도    28  \n",
       "49996  [민원 유입 경로]: 모바일\\n[사고발생지역]울산광역시 중구 남외동 455-1\\n횡...  울산광역시   263  \n",
       "49997  &lt;불법주차&gt; 인도 불법주차\\n경상남도 양산시 물금읍 물금리 392-6 부...   경상남도     5  \n",
       "49998  &lt;불법주차&gt; 불법주차\\n경기도 화성시 영천동 511-42 부근\\n\\n[☆...    경기도    36  \n",
       "49999  [민원 유입 경로]: 모바일\\n[사고발생지역]서울특별시 강남구 신사동 668-29\\...    경기도    47  \n",
       "\n",
       "[50000 rows x 4 columns]"
      ]
     },
     "execution_count": 24,
     "metadata": {},
     "output_type": "execute_result"
    }
   ],
   "source": [
    "pred_data"
   ]
  },
  {
   "cell_type": "code",
   "execution_count": 23,
   "metadata": {},
   "outputs": [
    {
     "ename": "KeyError",
     "evalue": "\"['token'] not in index\"",
     "output_type": "error",
     "traceback": [
      "\u001b[0;31m---------------------------------------------------------------------------\u001b[0m",
      "\u001b[0;31mKeyError\u001b[0m                                  Traceback (most recent call last)",
      "\u001b[1;32m/home/mglee/VSCODE/git_folder/complain_department_classification/code/saved_model_load_and_predict.ipynb Cell 15'\u001b[0m in \u001b[0;36m<cell line: 2>\u001b[0;34m()\u001b[0m\n\u001b[1;32m      <a href='vscode-notebook-cell://ssh-remote%2B141.223.144.85/home/mglee/VSCODE/git_folder/complain_department_classification/code/saved_model_load_and_predict.ipynb#ch0000012vscode-remote?line=0'>1</a>\u001b[0m pred_data[\u001b[39m'\u001b[39m\u001b[39m접수기관\u001b[39m\u001b[39m'\u001b[39m] \u001b[39m=\u001b[39m pred_data[\u001b[39m'\u001b[39m\u001b[39m접수기관\u001b[39m\u001b[39m'\u001b[39m]\u001b[39m.\u001b[39mapply(\u001b[39mlambda\u001b[39;00m x : department_to_int(x))\n\u001b[0;32m----> <a href='vscode-notebook-cell://ssh-remote%2B141.223.144.85/home/mglee/VSCODE/git_folder/complain_department_classification/code/saved_model_load_and_predict.ipynb#ch0000012vscode-remote?line=1'>2</a>\u001b[0m pred_data \u001b[39m=\u001b[39m pred_data[[\u001b[39m'\u001b[39;49m\u001b[39mtoken\u001b[39;49m\u001b[39m'\u001b[39;49m, \u001b[39m'\u001b[39;49m\u001b[39m접수기관\u001b[39;49m\u001b[39m'\u001b[39;49m]]\n",
      "File \u001b[0;32m~/.conda/envs/svmglee/lib/python3.8/site-packages/pandas/core/frame.py:3511\u001b[0m, in \u001b[0;36mDataFrame.__getitem__\u001b[0;34m(self, key)\u001b[0m\n\u001b[1;32m   3509\u001b[0m     \u001b[39mif\u001b[39;00m is_iterator(key):\n\u001b[1;32m   3510\u001b[0m         key \u001b[39m=\u001b[39m \u001b[39mlist\u001b[39m(key)\n\u001b[0;32m-> 3511\u001b[0m     indexer \u001b[39m=\u001b[39m \u001b[39mself\u001b[39;49m\u001b[39m.\u001b[39;49mcolumns\u001b[39m.\u001b[39;49m_get_indexer_strict(key, \u001b[39m\"\u001b[39;49m\u001b[39mcolumns\u001b[39;49m\u001b[39m\"\u001b[39;49m)[\u001b[39m1\u001b[39m]\n\u001b[1;32m   3513\u001b[0m \u001b[39m# take() does not accept boolean indexers\u001b[39;00m\n\u001b[1;32m   3514\u001b[0m \u001b[39mif\u001b[39;00m \u001b[39mgetattr\u001b[39m(indexer, \u001b[39m\"\u001b[39m\u001b[39mdtype\u001b[39m\u001b[39m\"\u001b[39m, \u001b[39mNone\u001b[39;00m) \u001b[39m==\u001b[39m \u001b[39mbool\u001b[39m:\n",
      "File \u001b[0;32m~/.conda/envs/svmglee/lib/python3.8/site-packages/pandas/core/indexes/base.py:5782\u001b[0m, in \u001b[0;36mIndex._get_indexer_strict\u001b[0;34m(self, key, axis_name)\u001b[0m\n\u001b[1;32m   5779\u001b[0m \u001b[39melse\u001b[39;00m:\n\u001b[1;32m   5780\u001b[0m     keyarr, indexer, new_indexer \u001b[39m=\u001b[39m \u001b[39mself\u001b[39m\u001b[39m.\u001b[39m_reindex_non_unique(keyarr)\n\u001b[0;32m-> 5782\u001b[0m \u001b[39mself\u001b[39;49m\u001b[39m.\u001b[39;49m_raise_if_missing(keyarr, indexer, axis_name)\n\u001b[1;32m   5784\u001b[0m keyarr \u001b[39m=\u001b[39m \u001b[39mself\u001b[39m\u001b[39m.\u001b[39mtake(indexer)\n\u001b[1;32m   5785\u001b[0m \u001b[39mif\u001b[39;00m \u001b[39misinstance\u001b[39m(key, Index):\n\u001b[1;32m   5786\u001b[0m     \u001b[39m# GH 42790 - Preserve name from an Index\u001b[39;00m\n",
      "File \u001b[0;32m~/.conda/envs/svmglee/lib/python3.8/site-packages/pandas/core/indexes/base.py:5845\u001b[0m, in \u001b[0;36mIndex._raise_if_missing\u001b[0;34m(self, key, indexer, axis_name)\u001b[0m\n\u001b[1;32m   5842\u001b[0m     \u001b[39mraise\u001b[39;00m \u001b[39mKeyError\u001b[39;00m(\u001b[39mf\u001b[39m\u001b[39m\"\u001b[39m\u001b[39mNone of [\u001b[39m\u001b[39m{\u001b[39;00mkey\u001b[39m}\u001b[39;00m\u001b[39m] are in the [\u001b[39m\u001b[39m{\u001b[39;00maxis_name\u001b[39m}\u001b[39;00m\u001b[39m]\u001b[39m\u001b[39m\"\u001b[39m)\n\u001b[1;32m   5844\u001b[0m not_found \u001b[39m=\u001b[39m \u001b[39mlist\u001b[39m(ensure_index(key)[missing_mask\u001b[39m.\u001b[39mnonzero()[\u001b[39m0\u001b[39m]]\u001b[39m.\u001b[39munique())\n\u001b[0;32m-> 5845\u001b[0m \u001b[39mraise\u001b[39;00m \u001b[39mKeyError\u001b[39;00m(\u001b[39mf\u001b[39m\u001b[39m\"\u001b[39m\u001b[39m{\u001b[39;00mnot_found\u001b[39m}\u001b[39;00m\u001b[39m not in index\u001b[39m\u001b[39m\"\u001b[39m)\n",
      "\u001b[0;31mKeyError\u001b[0m: \"['token'] not in index\""
     ]
    }
   ],
   "source": [
    "pred_data['접수기관'] = pred_data['접수기관'].apply(lambda x : department_to_int(x))\n",
    "pred_data = pred_data[['token', '접수기관']]"
   ]
  },
  {
   "cell_type": "code",
   "execution_count": null,
   "metadata": {},
   "outputs": [
    {
     "data": {
      "text/html": [
       "<div>\n",
       "<style scoped>\n",
       "    .dataframe tbody tr th:only-of-type {\n",
       "        vertical-align: middle;\n",
       "    }\n",
       "\n",
       "    .dataframe tbody tr th {\n",
       "        vertical-align: top;\n",
       "    }\n",
       "\n",
       "    .dataframe thead th {\n",
       "        text-align: right;\n",
       "    }\n",
       "</style>\n",
       "<table border=\"1\" class=\"dataframe\">\n",
       "  <thead>\n",
       "    <tr style=\"text-align: right;\">\n",
       "      <th></th>\n",
       "      <th>token</th>\n",
       "      <th>접수기관</th>\n",
       "    </tr>\n",
       "  </thead>\n",
       "  <tbody>\n",
       "    <tr>\n",
       "      <th>0</th>\n",
       "      <td>[입, 주민, 의견서, 발신, 성남, 판교, 대장, 블럭, 예정자, 일동, 수신, ...</td>\n",
       "      <td>3</td>\n",
       "    </tr>\n",
       "    <tr>\n",
       "      <th>1</th>\n",
       "      <td>[민원, 유입, 경로, 모바일, 사고, 발생, 지역, 경기도, 성남시, 중원구, 금...</td>\n",
       "      <td>8</td>\n",
       "    </tr>\n",
       "    <tr>\n",
       "      <th>2</th>\n",
       "      <td>[문자, 신고, 화곡로, 앞, 삼거리, 교차로, 서울, 도, 불법, 주차, 신고]</td>\n",
       "      <td>49</td>\n",
       "    </tr>\n",
       "  </tbody>\n",
       "</table>\n",
       "</div>"
      ],
      "text/plain": [
       "                                               token  접수기관\n",
       "0  [입, 주민, 의견서, 발신, 성남, 판교, 대장, 블럭, 예정자, 일동, 수신, ...     3\n",
       "1  [민원, 유입, 경로, 모바일, 사고, 발생, 지역, 경기도, 성남시, 중원구, 금...     8\n",
       "2      [문자, 신고, 화곡로, 앞, 삼거리, 교차로, 서울, 도, 불법, 주차, 신고]    49"
      ]
     },
     "execution_count": 17,
     "metadata": {},
     "output_type": "execute_result"
    }
   ],
   "source": [
    "pred_data.head(3)"
   ]
  },
  {
   "cell_type": "markdown",
   "metadata": {},
   "source": [
    "### 여기는 class를 새로 만드는 부분이라서 다시 안해도됨"
   ]
  },
  {
   "cell_type": "code",
   "execution_count": 59,
   "metadata": {},
   "outputs": [
    {
     "name": "stdout",
     "output_type": "stream",
     "text": [
      "get bertmodel and vocab\n",
      "using cached model. /home/mglee/VSCODE/git_folder/complain_department_classification/code/.cache/kobert_v1.zip\n",
      "using cached model. /home/mglee/VSCODE/git_folder/complain_department_classification/code/.cache/kobert_news_wiki_ko_cased-1087f8699e.spiece\n"
     ]
    }
   ],
   "source": [
    "class BERTDataset(Dataset):\n",
    "    def __init__(self, dataset,bert_tokenizer, max_len,\n",
    "                 pad, pair):\n",
    "        transform = nlp.data.BERTSentenceTransform(\n",
    "            bert_tokenizer, max_seq_length=max_len, pad=pad, pair=pair)\n",
    "\n",
    "        self.sentences = [transform([\" \".join(dataset.iloc[i]['token'])]) for i in range(len(dataset))]\n",
    "        self.labels = [np.int32(dataset.iloc[i]['접수기관']) for i in range(len(dataset))]\n",
    "\n",
    "    def __getitem__(self, i):\n",
    "        return (self.sentences[i] + (self.labels[i], ))\n",
    "\n",
    "    def __len__(self):\n",
    "        return (len(self.labels))\n",
    "\n",
    "\n",
    "\n",
    "print('get bertmodel and vocab')\n",
    "bertmodel, vocab = get_pytorch_kobert_model()\n"
   ]
  },
  {
   "cell_type": "markdown",
   "metadata": {},
   "source": [
    "### 여기는 해야함"
   ]
  },
  {
   "cell_type": "code",
   "execution_count": 19,
   "metadata": {},
   "outputs": [
    {
     "name": "stdout",
     "output_type": "stream",
     "text": [
      "data setting\n",
      "using cached model. /home/mglee/VSCODE/git_folder/complain_department_classification/code/.cache/kobert_news_wiki_ko_cased-1087f8699e.spiece\n"
     ]
    }
   ],
   "source": [
    "max_grad_norm = 1\n",
    "log_interval = 1000\n",
    "warmup_ratio = 0.1\n",
    "batch_size = 8\n",
    "max_len = 512\n",
    "\n",
    "\n",
    "print(\"data setting\")\n",
    "tokenizer = get_tokenizer()\n",
    "tok = nlp.data.BERTSPTokenizer(tokenizer, vocab, lower=False)\n",
    "\n",
    "pred_data_B = BERTDataset(pred_data, tok, max_len, True, False)\n",
    "\n",
    " \n",
    "pred_dataloader = torch.utils.data.DataLoader(\n",
    "    pred_data_B, batch_size = batch_size, num_workers = 8)\n"
   ]
  },
  {
   "cell_type": "code",
   "execution_count": 20,
   "metadata": {},
   "outputs": [
    {
     "name": "stdout",
     "output_type": "stream",
     "text": [
      "tensor([[   2, 3836, 4228,  ...,    1,    1,    1],\n",
      "        [   2, 2173, 3589,  ...,    1,    1,    1],\n",
      "        [   2, 2123, 3012,  ...,    1,    1,    1],\n",
      "        ...,\n",
      "        [   2, 3892, 4438,  ...,    1,    1,    1],\n",
      "        [   2, 1636, 2407,  ...,    1,    1,    1],\n",
      "        [   2, 3552, 4213,  ...,    1,    1,    1]], dtype=torch.int32)\n",
      "tensor([356, 260,  20,  44,  23, 188, 126,  23], dtype=torch.int32)\n",
      "tensor([[0, 0, 0,  ..., 0, 0, 0],\n",
      "        [0, 0, 0,  ..., 0, 0, 0],\n",
      "        [0, 0, 0,  ..., 0, 0, 0],\n",
      "        ...,\n",
      "        [0, 0, 0,  ..., 0, 0, 0],\n",
      "        [0, 0, 0,  ..., 0, 0, 0],\n",
      "        [0, 0, 0,  ..., 0, 0, 0]], dtype=torch.int32)\n",
      "tensor([  3,   8,  49, 115,  49,  61, 115,  49], dtype=torch.int32)\n"
     ]
    }
   ],
   "source": [
    "for i in pred_dataloader:\n",
    "    print(i[0]) # input\n",
    "    print(i[1]) # ?\n",
    "    print(i[2]) # label\n",
    "    print(i[3]) # ?\n",
    "    break"
   ]
  },
  {
   "cell_type": "markdown",
   "metadata": {},
   "source": [
    "### 여기는 모델에 대한 부분이라서 안해도 됨"
   ]
  },
  {
   "cell_type": "code",
   "execution_count": 62,
   "metadata": {},
   "outputs": [],
   "source": [
    "class BERTClassifier(nn.Module):\n",
    "    def __init__(self,\n",
    "                 bert,\n",
    "                 hidden_size = 768,\n",
    "                 num_classes = len(label_data['접수기관'].unique()),   ##클래스 수 조정##\n",
    "                 dr_rate=None,\n",
    "                 params=None):\n",
    "        super(BERTClassifier, self).__init__()\n",
    "        self.bert = bert\n",
    "        self.dr_rate = dr_rate\n",
    "                 \n",
    "        self.classifier = nn.Linear(hidden_size , num_classes)\n",
    "        if dr_rate:\n",
    "            self.dropout = nn.Dropout(p=dr_rate)\n",
    "    \n",
    "    def gen_attention_mask(self, token_ids, valid_length):\n",
    "        attention_mask = torch.zeros_like(token_ids)\n",
    "        for i, v in enumerate(valid_length):\n",
    "            attention_mask[i][:v] = 1\n",
    "        return attention_mask.float()\n",
    "\n",
    "    def forward(self, token_ids, valid_length, segment_ids):\n",
    "        attention_mask = self.gen_attention_mask(token_ids, valid_length)\n",
    "        \n",
    "        _, pooler = self.bert(input_ids = token_ids, token_type_ids = segment_ids.long(), attention_mask = attention_mask.float().to(token_ids.device))\n",
    "        if self.dr_rate:\n",
    "            out = self.dropout(pooler)\n",
    "        return self.classifier(out)\n"
   ]
  },
  {
   "cell_type": "code",
   "execution_count": null,
   "metadata": {},
   "outputs": [],
   "source": [
    "PATH = '../result/kobert/'\n",
    "\n",
    "pred_model = torch.load(PATH + 'KoBERT_0627_py.pt')  # 전체 모델을 통째로 불러옴, 클래스 선언 필수\n",
    "# pred_model.load_state_dict(torch.load(PATH + 'Kobert_0627_py_state_dict.pt'))  # state_dict를 불러 온 후, 모델에 저장\n",
    "\n",
    "# checkpoint = torch.load(PATH + 'all.tar')   # dict 불러오기\n",
    "# pred_model.load_state_dict(checkpoint['model'])\n",
    "#optimizer.load_state_dict(checkpoint['optimizer'])"
   ]
  },
  {
   "cell_type": "code",
   "execution_count": 55,
   "metadata": {},
   "outputs": [],
   "source": [
    "# PATH = '../result/kobert/'\n",
    "\n",
    "# pred_model = torch.load(PATH + 'KoBERT_0623_e5.pt')  # 전체 모델을 통째로 불러옴, 클래스 선언 필수\n",
    "# #pred_model.load_state_dict(torch.load(PATH + 'Kobert_0623_e5_state_dict.pt'))  # state_dict를 불러 온 후, 모델에 저장"
   ]
  },
  {
   "cell_type": "code",
   "execution_count": 45,
   "metadata": {},
   "outputs": [],
   "source": [
    "model = BERTClassifier(pred_model).to(device)"
   ]
  },
  {
   "cell_type": "code",
   "execution_count": 63,
   "metadata": {},
   "outputs": [],
   "source": [
    "def calc_accuracy(X,Y):\n",
    "    max_vals, max_indices = torch.max(X, 1)\n",
    "    train_acc = (max_indices == Y).sum().data.cpu().numpy()/max_indices.size()[0]\n",
    "    #print(f\"acc {train_acc} /  mi {max_indices} ==  {Y}\")\n",
    "    return train_acc"
   ]
  },
  {
   "cell_type": "markdown",
   "metadata": {},
   "source": [
    "### Data Set만 준비한다면 여기를 계속 다른 인풋으로 돌려보면서 확인 가능"
   ]
  },
  {
   "cell_type": "code",
   "execution_count": 81,
   "metadata": {},
   "outputs": [
    {
     "data": {
      "application/vnd.jupyter.widget-view+json": {
       "model_id": "f9fa45fab6c0439e819f1abeb4a8fc10",
       "version_major": 2,
       "version_minor": 0
      },
      "text/plain": [
       "  0%|          | 0/1764 [00:00<?, ?it/s]"
      ]
     },
     "metadata": {},
     "output_type": "display_data"
    },
    {
     "name": "stdout",
     "output_type": "stream",
     "text": [
      "y = tensor([  3,   8,  49, 115,  49,  61, 115,  49], device='cuda:1'), 'pred  =tensor([ 6.9040,  2.6896,  9.5187,  6.7664, 14.6903, -0.3631, 16.2148, -0.0783],\n",
      "       device='cuda:1', grad_fn=<MaxBackward0>), tensor([  2,   6,   8,  16, 170,   6, 128,  26], device='cuda:1'), acc = 0.0\n",
      "y = tensor([ 49,   1, 267,   1,  38,  28,  49,  42], device='cuda:1'), 'pred  =tensor([13.3809, 13.9972, 11.4588, 10.7679,  3.7729, 14.2709, -0.1922,  9.5290],\n",
      "       device='cuda:1', grad_fn=<MaxBackward0>), tensor([  8,   1, 186,   1,   1,  18,  26, 102], device='cuda:1'), acc = 0.25\n",
      "y = tensor([  1,  16,  49,  49,  36, 326,  49,  49], device='cuda:1'), 'pred  =tensor([13.7426, 12.7054,  7.3291, 14.9016,  3.8409, 15.7294, 13.3692,  0.7885],\n",
      "       device='cuda:1', grad_fn=<MaxBackward0>), tensor([  1,   8,   8,  86,  26, 225,  35, 102], device='cuda:1'), acc = 0.375\n",
      "y = tensor([ 49,  49, 234, 267,  49,  49,  72,  49], device='cuda:1'), 'pred  =tensor([11.0366,  5.1702, 12.7160, 10.8489,  7.7380, 14.3519,  8.2843, -0.0160],\n",
      "       device='cuda:1', grad_fn=<MaxBackward0>), tensor([120,   8, 160, 186,  17, 177,  52,  26], device='cuda:1'), acc = 0.375\n",
      "y = tensor([ 49,  49,  49, 245,   3,  49,  49, 108], device='cuda:1'), 'pred  =tensor([11.5671, 13.5087, 13.1756,  7.8884,  9.1473, 15.6843, 11.5671,  6.1526],\n",
      "       device='cuda:1', grad_fn=<MaxBackward0>), tensor([  8,  33,  35, 170,   2,  86,   8,  75], device='cuda:1'), acc = 0.375\n",
      "y = tensor([ 49, 154,  49, 124, 187,   3, 150,  72], device='cuda:1'), 'pred  =tensor([ 1.3275,  7.8994, 16.6540, 14.1288, 10.6373, 10.6344, 15.1133,  9.1892],\n",
      "       device='cuda:1', grad_fn=<MaxBackward0>), tensor([ 35, 102, 221,  84,   8,   1, 179,   9], device='cuda:1'), acc = 0.375\n",
      "y = tensor([ 59,  49,  59, 212,   1,  22,  49, 154], device='cuda:1'), 'pred  =tensor([12.8453, 15.3442, 13.9135, 10.3447, 13.5208,  0.1047, 11.2971,  8.4066],\n",
      "       device='cuda:1', grad_fn=<MaxBackward0>), tensor([ 47,  86,  47, 148,   1, 172, 193, 102], device='cuda:1'), acc = 0.5\n",
      "y = tensor([ 49,   1, 277,  42,  49, 134,  49,  26], device='cuda:1'), 'pred  =tensor([13.5199, 13.3435, 12.0329, 15.5955,  8.4478, 10.3974,  3.8611, 11.6092],\n",
      "       device='cuda:1', grad_fn=<MaxBackward0>), tensor([193,   1,   8,  40,   8, 162,   8,   1], device='cuda:1'), acc = 0.625\n",
      "y = tensor([ 11, 205,  26,  49,  40,  69, 313,  49], device='cuda:1'), 'pred  =tensor([16.1219,  1.8158, 11.5375, 15.1415, 11.3889, 16.3249, -2.0667, 13.1585],\n",
      "       device='cuda:1', grad_fn=<MaxBackward0>), tensor([  9,  51,  17, 177,   0, 137,  14,  35], device='cuda:1'), acc = 0.625\n",
      "y = tensor([  0,  49, 154, 267,  20,  49, 202,  58], device='cuda:1'), 'pred  =tensor([16.1591, 15.6926,  5.8366, 10.9815, -7.8816, 11.5671, 12.4835, 13.7830],\n",
      "       device='cuda:1', grad_fn=<MaxBackward0>), tensor([  0, 190, 102, 186,  19,   8,  66,  33], device='cuda:1'), acc = 0.75\n",
      "y = tensor([ 49,  53,  49,  49, 125,  49,  49,  49], device='cuda:1'), 'pred  =tensor([12.3637, 16.8362, 14.7802, 14.2503, 10.8248, 11.5671,  5.3015, 14.6540],\n",
      "       device='cuda:1', grad_fn=<MaxBackward0>), tensor([ 35,  40,  58, 170,  85,   8, 145, 153], device='cuda:1'), acc = 0.75\n",
      "y = tensor([ 49,  10,  49,  49,  49,  49,  49, 279], device='cuda:1'), 'pred  =tensor([13.9959, 12.8555, 11.5671,  1.4672, 10.6635,  2.2589, 17.4947, 13.2990],\n",
      "       device='cuda:1', grad_fn=<MaxBackward0>), tensor([145,  23,   8,  65,  35,   8, 154, 195], device='cuda:1'), acc = 0.75\n"
     ]
    },
    {
     "data": {
      "text/plain": [
       "0.0625"
      ]
     },
     "execution_count": 81,
     "metadata": {},
     "output_type": "execute_result"
    }
   ],
   "source": [
    "out_lst = []\n",
    "pred_acc = 0\n",
    "pred_model.eval()\n",
    "for batch_id, (token_ids, valid_length, segment_ids, label) in enumerate(tqdm(pred_dataloader)):\n",
    "    token_ids = token_ids.long().to(device)\n",
    "    segment_ids = segment_ids.long().to(device)\n",
    "    valid_length= valid_length\n",
    "    label = label.long().to(device)\n",
    "    out = pred_model(token_ids, valid_length, segment_ids)\n",
    "    #out_lst.append(out)\n",
    "    pred_acc += calc_accuracy(out, label)\n",
    "    max_vals, max_indices = torch.max(out, 1)\n",
    "    print(f\"y = {label}, 'pred  ={max_vals}, {max_indices}, acc = {pred_acc}\")\n",
    "    if batch_id > 10:\n",
    "        break\n",
    "pred_acc / (batch_id+1)"
   ]
  },
  {
   "cell_type": "markdown",
   "metadata": {},
   "source": [
    "왜 안되는걸까???? 학습에 사용한 데이터로 해보자\n",
    "\n",
    "### 압축했으니까 밑부분은 안해도 됨"
   ]
  },
  {
   "cell_type": "code",
   "execution_count": 27,
   "metadata": {},
   "outputs": [],
   "source": [
    "pred_B = pd.read_pickle(\"../result/sample5_tokenized.pkl\")"
   ]
  },
  {
   "cell_type": "code",
   "execution_count": 28,
   "metadata": {},
   "outputs": [
    {
     "data": {
      "text/html": [
       "<div>\n",
       "<style scoped>\n",
       "    .dataframe tbody tr th:only-of-type {\n",
       "        vertical-align: middle;\n",
       "    }\n",
       "\n",
       "    .dataframe tbody tr th {\n",
       "        vertical-align: top;\n",
       "    }\n",
       "\n",
       "    .dataframe thead th {\n",
       "        text-align: right;\n",
       "    }\n",
       "</style>\n",
       "<table border=\"1\" class=\"dataframe\">\n",
       "  <thead>\n",
       "    <tr style=\"text-align: right;\">\n",
       "      <th></th>\n",
       "      <th>제목</th>\n",
       "      <th>본문</th>\n",
       "      <th>민원발생지</th>\n",
       "      <th>접수기관</th>\n",
       "      <th>token</th>\n",
       "    </tr>\n",
       "  </thead>\n",
       "  <tbody>\n",
       "    <tr>\n",
       "      <th>0</th>\n",
       "      <td>농산물(한방재) 부재료의 중량표시 방법</td>\n",
       "      <td>안녕하십니까! 수고많으십니다.농산물(부재료)에 대한 중량표시 및 오차범위에 대한 질...</td>\n",
       "      <td>전라북도</td>\n",
       "      <td>식품의약품안전처</td>\n",
       "      <td>[안녕하십니까, 수고, 농산물, 부, 재료, 대한, 중량, 표시, 및, 오차, 범위...</td>\n",
       "    </tr>\n",
       "    <tr>\n",
       "      <th>1</th>\n",
       "      <td>전문건설업간 하도급계약에 관련</td>\n",
       "      <td>안녕하세요 저는 서울에서 일반토목공사를 하는 현장소장입니다.다름이 아니라 전문공사 ...</td>\n",
       "      <td>경기도</td>\n",
       "      <td>국토교통부</td>\n",
       "      <td>[저, 서울, 토목공사, 장소, 전문, 공사, 상하, 수도, 설비, 사업, 발주, ...</td>\n",
       "    </tr>\n",
       "    <tr>\n",
       "      <th>2</th>\n",
       "      <td>녹색건축 예비인증 후 설계변경시 예비인증을 다시 받아야 하는 경우에 관한 질의</td>\n",
       "      <td>1. 녹색건축 예비인증을 받은 이후에 각각 아래 1)에서 4)와 같은 설계변경 또는...</td>\n",
       "      <td>경기도</td>\n",
       "      <td>국토교통부</td>\n",
       "      <td>[녹색건축, 예비, 인증, 이후, 각각, 아래, 설계, 변경, 사업, 변경, 발생,...</td>\n",
       "    </tr>\n",
       "    <tr>\n",
       "      <th>3</th>\n",
       "      <td>(SPP-1803-1600277)임대아파트의 에어컨 실외기 문제로 호소합니다. 저는 임</td>\n",
       "      <td>[민원 유입 경로]: 모바일\\n[사고발생지역]대구광역시 동구 각산동 1062\\n[기...</td>\n",
       "      <td>대구광역시</td>\n",
       "      <td>한국토지주택공사</td>\n",
       "      <td>[민원, 유입, 경로, 모바일, 사고, 발생, 지역, 대구광역시, 동구, 각산동, ...</td>\n",
       "    </tr>\n",
       "    <tr>\n",
       "      <th>4</th>\n",
       "      <td>[생활불편신고]불법 주차</td>\n",
       "      <td>&amp;lt;불법주정차&amp;gt; 18-03-15 오전부터 24시간 이상 도로변에 불법주차되...</td>\n",
       "      <td>경상남도</td>\n",
       "      <td>경상남도 양산시</td>\n",
       "      <td>[불법, 정차, 오전, 이상, 도로, 변, 불법, 주차, 오늘, 사진, 첨부, 신고...</td>\n",
       "    </tr>\n",
       "    <tr>\n",
       "      <th>...</th>\n",
       "      <td>...</td>\n",
       "      <td>...</td>\n",
       "      <td>...</td>\n",
       "      <td>...</td>\n",
       "      <td>...</td>\n",
       "    </tr>\n",
       "    <tr>\n",
       "      <th>999995</th>\n",
       "      <td>(SPP-2103-1507152)우회전차선 진입 후 앞의 차의 주정차로 인해 교통흐름을</td>\n",
       "      <td>[민원 유입 경로]: 모바일\\n[사고발생지역]경상남도 창원시 의창구 동읍 용잠리 2...</td>\n",
       "      <td>경상남도</td>\n",
       "      <td>경상남도 창원시</td>\n",
       "      <td>[민원, 유입, 경로, 모바일, 사고, 발생, 지역, 경상남도, 창원시, 의창구, ...</td>\n",
       "    </tr>\n",
       "    <tr>\n",
       "      <th>999996</th>\n",
       "      <td>억울한 운영정지 자격정지 처분에 대한 심의를 다시금 부탁드립니다</td>\n",
       "      <td>안녕하십니까 저는 남양주시 오남읍에 위치한 가정어린이집 원장입니다 작년 9월 어린이...</td>\n",
       "      <td>경기도</td>\n",
       "      <td>보건복지부</td>\n",
       "      <td>[안녕하십니까, 저, 남양주시, 오남읍, 위치, 가정, 어린이집, 원장, 작년, 어...</td>\n",
       "    </tr>\n",
       "    <tr>\n",
       "      <th>999997</th>\n",
       "      <td>가양1동 주민센터 남자직원분</td>\n",
       "      <td>3월15일 오후2시에서 3시사이에 4번창구에서 근무하던 남자분 이름을 차마 제가 못...</td>\n",
       "      <td>서울특별시</td>\n",
       "      <td>서울특별시</td>\n",
       "      <td>[오후, 번, 창구, 근무, 남자, 이름, 차마, 제, 후회, 앞, 아주머니, 업무...</td>\n",
       "    </tr>\n",
       "    <tr>\n",
       "      <th>999998</th>\n",
       "      <td>(SPP-2103-1507122)기타 불법주정차 불법 주정차 신고입니다.\\n\\n* ...</td>\n",
       "      <td>[민원 유입 경로]: 모바일\\n[사고발생지역]경상북도 구미시 송정동 518\\n기타 ...</td>\n",
       "      <td>경상북도</td>\n",
       "      <td>경상북도 구미시</td>\n",
       "      <td>[민원, 유입, 경로, 모바일, 사고, 발생, 지역, 경상북도, 구미시, 송정동, ...</td>\n",
       "    </tr>\n",
       "    <tr>\n",
       "      <th>999999</th>\n",
       "      <td>(SPP-2103-1507121)2021년 3월 10일 오후 4시 8분경\\n33어 634</td>\n",
       "      <td>[민원 유입 경로]: 모바일\\n[사고발생지역]경상북도 경주시 구정동 632-1\\n2...</td>\n",
       "      <td>울산광역시</td>\n",
       "      <td>경찰청</td>\n",
       "      <td>[민원, 유입, 경로, 모바일, 사고, 발생, 지역, 경상북도, 경주시, 구정동, ...</td>\n",
       "    </tr>\n",
       "  </tbody>\n",
       "</table>\n",
       "<p>1000000 rows × 5 columns</p>\n",
       "</div>"
      ],
      "text/plain": [
       "                                                       제목  \\\n",
       "0                                   농산물(한방재) 부재료의 중량표시 방법   \n",
       "1                                        전문건설업간 하도급계약에 관련   \n",
       "2             녹색건축 예비인증 후 설계변경시 예비인증을 다시 받아야 하는 경우에 관한 질의   \n",
       "3        (SPP-1803-1600277)임대아파트의 에어컨 실외기 문제로 호소합니다. 저는 임   \n",
       "4                                           [생활불편신고]불법 주차   \n",
       "...                                                   ...   \n",
       "999995   (SPP-2103-1507152)우회전차선 진입 후 앞의 차의 주정차로 인해 교통흐름을   \n",
       "999996               억울한 운영정지 자격정지 처분에 대한 심의를 다시금 부탁드립니다    \n",
       "999997                                    가양1동 주민센터 남자직원분   \n",
       "999998  (SPP-2103-1507122)기타 불법주정차 불법 주정차 신고입니다.\\n\\n* ...   \n",
       "999999  (SPP-2103-1507121)2021년 3월 10일 오후 4시 8분경\\n33어 634   \n",
       "\n",
       "                                                       본문  민원발생지      접수기관  \\\n",
       "0       안녕하십니까! 수고많으십니다.농산물(부재료)에 대한 중량표시 및 오차범위에 대한 질...   전라북도  식품의약품안전처   \n",
       "1       안녕하세요 저는 서울에서 일반토목공사를 하는 현장소장입니다.다름이 아니라 전문공사 ...    경기도     국토교통부   \n",
       "2       1. 녹색건축 예비인증을 받은 이후에 각각 아래 1)에서 4)와 같은 설계변경 또는...    경기도     국토교통부   \n",
       "3       [민원 유입 경로]: 모바일\\n[사고발생지역]대구광역시 동구 각산동 1062\\n[기...  대구광역시  한국토지주택공사   \n",
       "4       &lt;불법주정차&gt; 18-03-15 오전부터 24시간 이상 도로변에 불법주차되...   경상남도  경상남도 양산시   \n",
       "...                                                   ...    ...       ...   \n",
       "999995  [민원 유입 경로]: 모바일\\n[사고발생지역]경상남도 창원시 의창구 동읍 용잠리 2...   경상남도  경상남도 창원시   \n",
       "999996  안녕하십니까 저는 남양주시 오남읍에 위치한 가정어린이집 원장입니다 작년 9월 어린이...    경기도     보건복지부   \n",
       "999997  3월15일 오후2시에서 3시사이에 4번창구에서 근무하던 남자분 이름을 차마 제가 못...  서울특별시     서울특별시   \n",
       "999998  [민원 유입 경로]: 모바일\\n[사고발생지역]경상북도 구미시 송정동 518\\n기타 ...   경상북도  경상북도 구미시   \n",
       "999999  [민원 유입 경로]: 모바일\\n[사고발생지역]경상북도 경주시 구정동 632-1\\n2...  울산광역시       경찰청   \n",
       "\n",
       "                                                    token  \n",
       "0       [안녕하십니까, 수고, 농산물, 부, 재료, 대한, 중량, 표시, 및, 오차, 범위...  \n",
       "1       [저, 서울, 토목공사, 장소, 전문, 공사, 상하, 수도, 설비, 사업, 발주, ...  \n",
       "2       [녹색건축, 예비, 인증, 이후, 각각, 아래, 설계, 변경, 사업, 변경, 발생,...  \n",
       "3       [민원, 유입, 경로, 모바일, 사고, 발생, 지역, 대구광역시, 동구, 각산동, ...  \n",
       "4       [불법, 정차, 오전, 이상, 도로, 변, 불법, 주차, 오늘, 사진, 첨부, 신고...  \n",
       "...                                                   ...  \n",
       "999995  [민원, 유입, 경로, 모바일, 사고, 발생, 지역, 경상남도, 창원시, 의창구, ...  \n",
       "999996  [안녕하십니까, 저, 남양주시, 오남읍, 위치, 가정, 어린이집, 원장, 작년, 어...  \n",
       "999997  [오후, 번, 창구, 근무, 남자, 이름, 차마, 제, 후회, 앞, 아주머니, 업무...  \n",
       "999998  [민원, 유입, 경로, 모바일, 사고, 발생, 지역, 경상북도, 구미시, 송정동, ...  \n",
       "999999  [민원, 유입, 경로, 모바일, 사고, 발생, 지역, 경상북도, 경주시, 구정동, ...  \n",
       "\n",
       "[1000000 rows x 5 columns]"
      ]
     },
     "execution_count": 28,
     "metadata": {},
     "output_type": "execute_result"
    }
   ],
   "source": [
    "pred_B"
   ]
  },
  {
   "cell_type": "code",
   "execution_count": 29,
   "metadata": {},
   "outputs": [],
   "source": [
    "pred_B['접수기관'] = pred_B['접수기관'].apply(lambda x : label_to_int[x])\n",
    "pred_B = pred_B[['token', '접수기관']]"
   ]
  },
  {
   "cell_type": "code",
   "execution_count": 30,
   "metadata": {},
   "outputs": [
    {
     "data": {
      "text/html": [
       "<div>\n",
       "<style scoped>\n",
       "    .dataframe tbody tr th:only-of-type {\n",
       "        vertical-align: middle;\n",
       "    }\n",
       "\n",
       "    .dataframe tbody tr th {\n",
       "        vertical-align: top;\n",
       "    }\n",
       "\n",
       "    .dataframe thead th {\n",
       "        text-align: right;\n",
       "    }\n",
       "</style>\n",
       "<table border=\"1\" class=\"dataframe\">\n",
       "  <thead>\n",
       "    <tr style=\"text-align: right;\">\n",
       "      <th></th>\n",
       "      <th>token</th>\n",
       "      <th>접수기관</th>\n",
       "    </tr>\n",
       "  </thead>\n",
       "  <tbody>\n",
       "    <tr>\n",
       "      <th>0</th>\n",
       "      <td>[안녕하십니까, 수고, 농산물, 부, 재료, 대한, 중량, 표시, 및, 오차, 범위...</td>\n",
       "      <td>0</td>\n",
       "    </tr>\n",
       "    <tr>\n",
       "      <th>1</th>\n",
       "      <td>[저, 서울, 토목공사, 장소, 전문, 공사, 상하, 수도, 설비, 사업, 발주, ...</td>\n",
       "      <td>1</td>\n",
       "    </tr>\n",
       "    <tr>\n",
       "      <th>2</th>\n",
       "      <td>[녹색건축, 예비, 인증, 이후, 각각, 아래, 설계, 변경, 사업, 변경, 발생,...</td>\n",
       "      <td>1</td>\n",
       "    </tr>\n",
       "    <tr>\n",
       "      <th>3</th>\n",
       "      <td>[민원, 유입, 경로, 모바일, 사고, 발생, 지역, 대구광역시, 동구, 각산동, ...</td>\n",
       "      <td>3</td>\n",
       "    </tr>\n",
       "    <tr>\n",
       "      <th>4</th>\n",
       "      <td>[불법, 정차, 오전, 이상, 도로, 변, 불법, 주차, 오늘, 사진, 첨부, 신고...</td>\n",
       "      <td>5</td>\n",
       "    </tr>\n",
       "    <tr>\n",
       "      <th>...</th>\n",
       "      <td>...</td>\n",
       "      <td>...</td>\n",
       "    </tr>\n",
       "    <tr>\n",
       "      <th>999995</th>\n",
       "      <td>[민원, 유입, 경로, 모바일, 사고, 발생, 지역, 경상남도, 창원시, 의창구, ...</td>\n",
       "      <td>6</td>\n",
       "    </tr>\n",
       "    <tr>\n",
       "      <th>999996</th>\n",
       "      <td>[안녕하십니까, 저, 남양주시, 오남읍, 위치, 가정, 어린이집, 원장, 작년, 어...</td>\n",
       "      <td>58</td>\n",
       "    </tr>\n",
       "    <tr>\n",
       "      <th>999997</th>\n",
       "      <td>[오후, 번, 창구, 근무, 남자, 이름, 차마, 제, 후회, 앞, 아주머니, 업무...</td>\n",
       "      <td>49</td>\n",
       "    </tr>\n",
       "    <tr>\n",
       "      <th>999998</th>\n",
       "      <td>[민원, 유입, 경로, 모바일, 사고, 발생, 지역, 경상북도, 구미시, 송정동, ...</td>\n",
       "      <td>48</td>\n",
       "    </tr>\n",
       "    <tr>\n",
       "      <th>999999</th>\n",
       "      <td>[민원, 유입, 경로, 모바일, 사고, 발생, 지역, 경상북도, 경주시, 구정동, ...</td>\n",
       "      <td>10</td>\n",
       "    </tr>\n",
       "  </tbody>\n",
       "</table>\n",
       "<p>1000000 rows × 2 columns</p>\n",
       "</div>"
      ],
      "text/plain": [
       "                                                    token  접수기관\n",
       "0       [안녕하십니까, 수고, 농산물, 부, 재료, 대한, 중량, 표시, 및, 오차, 범위...     0\n",
       "1       [저, 서울, 토목공사, 장소, 전문, 공사, 상하, 수도, 설비, 사업, 발주, ...     1\n",
       "2       [녹색건축, 예비, 인증, 이후, 각각, 아래, 설계, 변경, 사업, 변경, 발생,...     1\n",
       "3       [민원, 유입, 경로, 모바일, 사고, 발생, 지역, 대구광역시, 동구, 각산동, ...     3\n",
       "4       [불법, 정차, 오전, 이상, 도로, 변, 불법, 주차, 오늘, 사진, 첨부, 신고...     5\n",
       "...                                                   ...   ...\n",
       "999995  [민원, 유입, 경로, 모바일, 사고, 발생, 지역, 경상남도, 창원시, 의창구, ...     6\n",
       "999996  [안녕하십니까, 저, 남양주시, 오남읍, 위치, 가정, 어린이집, 원장, 작년, 어...    58\n",
       "999997  [오후, 번, 창구, 근무, 남자, 이름, 차마, 제, 후회, 앞, 아주머니, 업무...    49\n",
       "999998  [민원, 유입, 경로, 모바일, 사고, 발생, 지역, 경상북도, 구미시, 송정동, ...    48\n",
       "999999  [민원, 유입, 경로, 모바일, 사고, 발생, 지역, 경상북도, 경주시, 구정동, ...    10\n",
       "\n",
       "[1000000 rows x 2 columns]"
      ]
     },
     "execution_count": 30,
     "metadata": {},
     "output_type": "execute_result"
    }
   ],
   "source": [
    "pred_B"
   ]
  },
  {
   "cell_type": "code",
   "execution_count": 31,
   "metadata": {},
   "outputs": [],
   "source": [
    "pred_B_data = BERTDataset(pred_B, tok, 512, True, False)\n",
    "\n",
    "pred_B_dataloader = torch.utils.data.DataLoader(\n",
    "    pred_B_data, batch_size = 4, num_workers = 8)"
   ]
  },
  {
   "cell_type": "code",
   "execution_count": 33,
   "metadata": {},
   "outputs": [],
   "source": [
    "pd.to_pickle(pred_B_dataloader, \"../data/dataloader.pkl\")"
   ]
  },
  {
   "cell_type": "code",
   "execution_count": 48,
   "metadata": {},
   "outputs": [
    {
     "name": "stdout",
     "output_type": "stream",
     "text": [
      "[tensor([[   2, 3135, 5724,  ...,    1,    1,    1],\n",
      "        [   2, 3990, 2726,  ...,    1,    1,    1],\n",
      "        [   2, 1495, 5384,  ...,    1,    1,    1],\n",
      "        [   2, 2173, 3589,  ...,    1,    1,    1]], dtype=torch.int32), tensor([ 80, 125, 344, 297], dtype=torch.int32), tensor([[0, 0, 0,  ..., 0, 0, 0],\n",
      "        [0, 0, 0,  ..., 0, 0, 0],\n",
      "        [0, 0, 0,  ..., 0, 0, 0],\n",
      "        [0, 0, 0,  ..., 0, 0, 0]], dtype=torch.int32), tensor([0, 1, 1, 3], dtype=torch.int32)]\n"
     ]
    }
   ],
   "source": [
    "for i in pred_B_dataloader:\n",
    "    print(i)\n",
    "    break"
   ]
  },
  {
   "cell_type": "code",
   "execution_count": 71,
   "metadata": {},
   "outputs": [
    {
     "ename": "TypeError",
     "evalue": "'DataLoader' object is not subscriptable",
     "output_type": "error",
     "traceback": [
      "\u001b[0;31m---------------------------------------------------------------------------\u001b[0m",
      "\u001b[0;31mTypeError\u001b[0m                                 Traceback (most recent call last)",
      "\u001b[1;32m/home/mglee/VSCODE/git_folder/complain_department_classification/code/saved_model_load_and_predict.ipynb Cell 34'\u001b[0m in \u001b[0;36m<cell line: 1>\u001b[0;34m()\u001b[0m\n\u001b[0;32m----> <a href='vscode-notebook-cell://ssh-remote%2B141.223.144.85/home/mglee/VSCODE/git_folder/complain_department_classification/code/saved_model_load_and_predict.ipynb#ch0000045vscode-remote?line=0'>1</a>\u001b[0m pred_B_dataloader[:\u001b[39m10\u001b[39;49m]\n",
      "\u001b[0;31mTypeError\u001b[0m: 'DataLoader' object is not subscriptable"
     ]
    }
   ],
   "source": [
    " pred_B_dataloader"
   ]
  },
  {
   "cell_type": "code",
   "execution_count": 82,
   "metadata": {},
   "outputs": [
    {
     "data": {
      "application/vnd.jupyter.widget-view+json": {
       "model_id": "8a0bcf3ead5b4d6aac0c2c0b548401b2",
       "version_major": 2,
       "version_minor": 0
      },
      "text/plain": [
       "  0%|          | 0/250000 [00:00<?, ?it/s]"
      ]
     },
     "metadata": {},
     "output_type": "display_data"
    },
    {
     "name": "stdout",
     "output_type": "stream",
     "text": [
      "y = tensor([0, 1, 1, 3], device='cuda:1'), 'pred  =tensor([15.9727, 13.7207, 13.5524, 11.1652], device='cuda:1',\n",
      "       grad_fn=<MaxBackward0>), tensor([0, 1, 1, 2], device='cuda:1'), acc = 0.75\n",
      "y = tensor([5, 6, 7, 8], device='cuda:1'), 'pred  =tensor([10.1925,  5.8444, 17.8014, -7.1268], device='cuda:1',\n",
      "       grad_fn=<MaxBackward0>), tensor([8, 4, 5, 4], device='cuda:1'), acc = 0.75\n",
      "y = tensor([ 9,  1, 10,  1], device='cuda:1'), 'pred  =tensor([16.6986,  9.9397, 11.5673, 13.4723], device='cuda:1',\n",
      "       grad_fn=<MaxBackward0>), tensor([7, 1, 8, 1], device='cuda:1'), acc = 1.25\n",
      "y = tensor([11, 12, 13, 16], device='cuda:1'), 'pred  =tensor([13.6380, 14.5499, 10.8289, 13.7587], device='cuda:1',\n",
      "       grad_fn=<MaxBackward0>), tensor([ 46,  10,   1, 117], device='cuda:1'), acc = 1.25\n",
      "y = tensor([17, 17, 10, 21], device='cuda:1'), 'pred  =tensor([10.3911, 10.3911,  1.6662,  7.1922], device='cuda:1',\n",
      "       grad_fn=<MaxBackward0>), tensor([13, 13,  6, 14], device='cuda:1'), acc = 1.25\n",
      "y = tensor([24, 11, 25,  1], device='cuda:1'), 'pred  =tensor([ 6.6684, 17.0147, 16.1703, 10.7604], device='cuda:1',\n",
      "       grad_fn=<MaxBackward0>), tensor([ 38,   9, 140,   1], device='cuda:1'), acc = 1.5\n",
      "y = tensor([26, 28, 29,  1], device='cuda:1'), 'pred  =tensor([15.2753, 14.1845,  9.1579, 13.5405], device='cuda:1',\n",
      "       grad_fn=<MaxBackward0>), tensor([17, 18, 19,  1], device='cuda:1'), acc = 1.75\n",
      "y = tensor([11, 26, 33, 35], device='cuda:1'), 'pred  =tensor([14.7363,  0.0217, 10.3653, -7.9840], device='cuda:1',\n",
      "       grad_fn=<MaxBackward0>), tensor([  9,  17, 117,   4], device='cuda:1'), acc = 1.75\n",
      "y = tensor([36, 37, 38,  1], device='cuda:1'), 'pred  =tensor([ 6.8628, -7.0046,  7.7704, 12.8778], device='cuda:1',\n",
      "       grad_fn=<MaxBackward0>), tensor([22, 14, 24,  1], device='cuda:1'), acc = 2.0\n",
      "y = tensor([39, 40, 41, 42], device='cuda:1'), 'pred  =tensor([ 0.3307, -1.5598, 11.0195, 11.8737], device='cuda:1',\n",
      "       grad_fn=<MaxBackward0>), tensor([14, 38, 27,  9], device='cuda:1'), acc = 2.0\n",
      "y = tensor([ 0, 43,  8,  1], device='cuda:1'), 'pred  =tensor([13.0647, -7.7324,  5.6276, 15.3221], device='cuda:1',\n",
      "       grad_fn=<MaxBackward0>), tensor([ 0, 14,  6, 30], device='cuda:1'), acc = 2.25\n",
      "y = tensor([21,  0, 44,  0], device='cuda:1'), 'pred  =tensor([-7.5207, 13.1951, 15.0007, 15.2818], device='cuda:1',\n",
      "       grad_fn=<MaxBackward0>), tensor([14, 93, 30,  0], device='cuda:1'), acc = 2.5\n"
     ]
    }
   ],
   "source": [
    "test_acc = 0\n",
    "\n",
    "model.eval()\n",
    "for batch_id, (token_ids, valid_length, segment_ids, label) in enumerate(tqdm(pred_B_dataloader)):\n",
    "    token_ids = token_ids.long().to(device)\n",
    "    segment_ids = segment_ids.long().to(device)\n",
    "    valid_length= valid_length\n",
    "    label = label.long().to(device)\n",
    "    out = pred_model(token_ids, valid_length, segment_ids)\n",
    "    test_acc += calc_accuracy(out, label)\n",
    "    max_vals, max_indices = torch.max(out, 1)\n",
    "    print(f\"y = {label}, 'pred  ={max_vals}, {max_indices}, acc = {test_acc}\")\n",
    "    if batch_id > 10:\n",
    "        break\n",
    "#print(\"epoch {} test acc {}\".format(test_acc / (batch_id+1)))\n"
   ]
  },
  {
   "cell_type": "code",
   "execution_count": 69,
   "metadata": {},
   "outputs": [
    {
     "data": {
      "text/plain": [
       "0.05866913308669133"
      ]
     },
     "execution_count": 69,
     "metadata": {},
     "output_type": "execute_result"
    }
   ],
   "source": [
    "test_acc / batch_id"
   ]
  }
 ],
 "metadata": {
  "kernelspec": {
   "display_name": "Python 3.8.12 ('svmglee')",
   "language": "python",
   "name": "python3"
  },
  "language_info": {
   "codemirror_mode": {
    "name": "ipython",
    "version": 3
   },
   "file_extension": ".py",
   "mimetype": "text/x-python",
   "name": "python",
   "nbconvert_exporter": "python",
   "pygments_lexer": "ipython3",
   "version": "3.8.12"
  },
  "vscode": {
   "interpreter": {
    "hash": "f75aeab59ff03ee2e291b4684758ee4ba4238bacc5beaacd4e7ff7cc7ef03731"
   }
  }
 },
 "nbformat": 4,
 "nbformat_minor": 4
}
